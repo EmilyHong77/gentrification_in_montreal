{
  "nbformat": 4,
  "nbformat_minor": 0,
  "metadata": {
    "colab": {
      "provenance": [],
      "include_colab_link": true
    },
    "kernelspec": {
      "name": "python3",
      "display_name": "Python 3"
    },
    "language_info": {
      "name": "python"
    }
  },
  "cells": [
    {
      "cell_type": "markdown",
      "metadata": {
        "id": "view-in-github",
        "colab_type": "text"
      },
      "source": [
        "<a href=\"https://colab.research.google.com/github/EmilyHong77/gentrification_in_montreal/blob/main/notebooks/data_cleaning.ipynb\" target=\"_parent\"><img src=\"https://colab.research.google.com/assets/colab-badge.svg\" alt=\"Open In Colab\"/></a>"
      ]
    },
    {
      "cell_type": "markdown",
      "source": [
        "**Information:** <br>\n",
        "Variables Source: <br>\n",
        "https://censusmapper.ca/ <br><br>\n",
        "\n",
        "Process: <br>\n",
        "This notebook performs cleaning of census data across multiple years (2001 to 2021).\n",
        "Key steps include merging related demographic, education, housing, and transportation variables\n",
        "(e.g., population by gender and age, household education levels, dwelling condition, and commuting patterns),\n",
        "as well as renaming columns to ensure consistent variable naming across datasets. <br>\n",
        "Steps vary for census years, depending on variable availability or formatting across years.\n",
        "This process prepares the dataset for standardized analysis and Ding measurement application."
      ],
      "metadata": {
        "id": "H77v16bmPcZj"
      }
    },
    {
      "cell_type": "markdown",
      "source": [
        "**Mount Drive**"
      ],
      "metadata": {
        "id": "OJ3TFVKvZzA0"
      }
    },
    {
      "cell_type": "code",
      "execution_count": null,
      "metadata": {
        "id": "yNRccV5o2eAd",
        "colab": {
          "base_uri": "https://localhost:8080/"
        },
        "outputId": "4ba2d691-87ed-4af6-e6a2-a82367e591e6"
      },
      "outputs": [
        {
          "output_type": "stream",
          "name": "stdout",
          "text": [
            "Drive already mounted at /content/drive; to attempt to forcibly remount, call drive.mount(\"/content/drive\", force_remount=True).\n"
          ]
        }
      ],
      "source": [
        "from google.colab import drive\n",
        "drive.mount('/content/drive')"
      ]
    },
    {
      "cell_type": "markdown",
      "source": [
        "**Libraries**"
      ],
      "metadata": {
        "id": "rueqog7LZuZv"
      }
    },
    {
      "cell_type": "code",
      "source": [
        "import pandas as pd\n",
        "import pprint\n",
        "from collections import Counter"
      ],
      "metadata": {
        "id": "i1qzSRX8TP5B"
      },
      "execution_count": null,
      "outputs": []
    },
    {
      "cell_type": "markdown",
      "source": [
        "# **2001**\n",
        "- drop employment and unemployment rate variables\n",
        "- add employed and unemployed variables\n",
        "- merge population gender\n",
        "- merge population age buckets\n",
        "- merge no certificate or diploma\n",
        "- merge regular maintenance\n",
        "- merge transportation gender\n",
        "- merge transportation others\n",
        "- rename variables!"
      ],
      "metadata": {
        "id": "imhHjJqmxrZh"
      }
    },
    {
      "cell_type": "code",
      "source": [
        "census_2001 = pd.read_csv('/content/drive/MyDrive/GentrificAItion/montreal_data_processing/data_cleaning/1_raw_census_data/2001_data_variables.csv')\n",
        "\n",
        "# Print all column names\n",
        "print(\"Column names:\")\n",
        "for col in census_2001.columns:\n",
        "    print(col)"
      ],
      "metadata": {
        "id": "GJQECOR-zBl-",
        "collapsed": true
      },
      "execution_count": null,
      "outputs": []
    },
    {
      "cell_type": "code",
      "source": [
        "# Drop employment rate and unemployment rate\n",
        "census_2001.drop(columns=['v_CA01_741: Employment rate', 'v_CA01_742: Unemployment rate'], inplace=True)\n",
        "\n",
        "# Check column names\n",
        "print(\"Column names:\")\n",
        "for col in census_2001.columns:\n",
        "    print(col)"
      ],
      "metadata": {
        "id": "V5QxJUSUz7Ep"
      },
      "execution_count": null,
      "outputs": []
    },
    {
      "cell_type": "code",
      "source": [
        "# Add employed and unemployed\n",
        "emp_unemp = pd.read_csv('/content/drive/MyDrive/GentrificAItion/montreal_data_processing/data_cleaning/1_raw_census_data/employed_unemployed_2001.csv')\n",
        "census_2001 = pd.merge(census_2001, emp_unemp, on='GeoUID')\n",
        "\n",
        "# Check column names\n",
        "print(\"Column names:\")\n",
        "for col in census_2001.columns:\n",
        "    print(col)"
      ],
      "metadata": {
        "id": "J0-jYzDY0h5_"
      },
      "execution_count": null,
      "outputs": []
    },
    {
      "cell_type": "code",
      "source": [
        "# Drop extra variables\n",
        "census_2001 = census_2001.drop(columns=['Type_y', 'Region Name_y', 'Area (sq km)_y', 'Population _y', 'Dwellings _y', 'Households _y'])\n",
        "\n",
        "print(census_2001.columns.tolist())"
      ],
      "metadata": {
        "id": "JoChyBKZ1UsO"
      },
      "execution_count": null,
      "outputs": []
    },
    {
      "cell_type": "code",
      "source": [
        "# Remove white spaces\n",
        "census_2001.columns = census_2001.columns.str.strip()"
      ],
      "metadata": {
        "id": "yXYKe3et6B6D"
      },
      "execution_count": null,
      "outputs": []
    },
    {
      "cell_type": "code",
      "source": [
        "# Convert all columns except the identifier to numeric\n",
        "ctuidcol = 'GeoUID'  # identifier column\n",
        "cols_to_convert = census_2001.columns.difference([ctuidcol])\n",
        "census_2001[cols_to_convert] = census_2001[cols_to_convert].apply(pd.to_numeric, errors='coerce')"
      ],
      "metadata": {
        "id": "px6iECB-DQNp"
      },
      "execution_count": null,
      "outputs": []
    },
    {
      "cell_type": "code",
      "source": [
        "# Merge population gender\n",
        "census_2001['0-4'] = census_2001['v_CA01_7: 0-4'] + census_2001['v_CA01_26: 0-4']\n",
        "census_2001 = census_2001.drop(columns=['v_CA01_7: 0-4', 'v_CA01_26: 0-4'])\n",
        "\n",
        "census_2001['5-9'] = census_2001['v_CA01_8: 5-9'] + census_2001['v_CA01_27: 5-9']\n",
        "census_2001 = census_2001.drop(columns=['v_CA01_8: 5-9', 'v_CA01_27: 5-9'])\n",
        "\n",
        "census_2001['10-14'] = census_2001['v_CA01_9: 10-14'] + census_2001['v_CA01_28: 10-14']\n",
        "census_2001 = census_2001.drop(columns=['v_CA01_9: 10-14', 'v_CA01_28: 10-14'])\n",
        "\n",
        "census_2001['15-19'] = census_2001['v_CA01_10: 15-19'] + census_2001['v_CA01_29: 15-19']\n",
        "census_2001 = census_2001.drop(columns=['v_CA01_10: 15-19', 'v_CA01_29: 15-19'])\n",
        "\n",
        "census_2001['20-24'] = census_2001['v_CA01_11: 20-24'] + census_2001['v_CA01_30: 20-24']\n",
        "census_2001 = census_2001.drop(columns=['v_CA01_11: 20-24', 'v_CA01_30: 20-24'])\n",
        "\n",
        "census_2001['25-29'] = census_2001['v_CA01_12: 25-29'] + census_2001['v_CA01_31: 25-29']\n",
        "census_2001 = census_2001.drop(columns=['v_CA01_12: 25-29', 'v_CA01_31: 25-29'])\n",
        "\n",
        "census_2001['30-34'] = census_2001['v_CA01_13: 30-34'] + census_2001['v_CA01_32: 30-34']\n",
        "census_2001 = census_2001.drop(columns=['v_CA01_13: 30-34', 'v_CA01_32: 30-34'])\n",
        "\n",
        "census_2001['35-39'] = census_2001['v_CA01_14: 35-39'] + census_2001['v_CA01_33: 35-39']\n",
        "census_2001 = census_2001.drop(columns=['v_CA01_14: 35-39', 'v_CA01_33: 35-39'])\n",
        "\n",
        "census_2001['40-44'] = census_2001['v_CA01_15: 40-44'] + census_2001['v_CA01_34: 40-44']\n",
        "census_2001 = census_2001.drop(columns=['v_CA01_15: 40-44', 'v_CA01_34: 40-44'])\n",
        "\n",
        "census_2001['45-49'] = census_2001['v_CA01_16: 45-49'] + census_2001['v_CA01_35: 45-49']\n",
        "census_2001 = census_2001.drop(columns=['v_CA01_16: 45-49', 'v_CA01_35: 45-49'])\n",
        "\n",
        "census_2001['50-54'] = census_2001['v_CA01_17: 50-54'] + census_2001['v_CA01_36: 50-54']\n",
        "census_2001 = census_2001.drop(columns=['v_CA01_17: 50-54', 'v_CA01_36: 50-54'])\n",
        "\n",
        "census_2001['55-59'] = census_2001['v_CA01_18: 55-59'] + census_2001['v_CA01_37: 55-59']\n",
        "census_2001 = census_2001.drop(columns=['v_CA01_18: 55-59', 'v_CA01_37: 55-59'])\n",
        "\n",
        "census_2001['60-64'] = census_2001['v_CA01_19: 60-64'] + census_2001['v_CA01_38: 60-64']\n",
        "census_2001 = census_2001.drop(columns=['v_CA01_19: 60-64', 'v_CA01_38: 60-64'])\n",
        "\n",
        "census_2001['65-69'] = census_2001['v_CA01_20: 65-69'] + census_2001['v_CA01_39: 65-69']\n",
        "census_2001 = census_2001.drop(columns=['v_CA01_20: 65-69', 'v_CA01_39: 65-69'])\n",
        "\n",
        "census_2001['70-74'] = census_2001['v_CA01_21: 70-74'] + census_2001['v_CA01_40: 70-74']\n",
        "census_2001 = census_2001.drop(columns=['v_CA01_21: 70-74', 'v_CA01_40: 70-74'])\n",
        "\n",
        "census_2001['75-79'] = census_2001['v_CA01_22: 75-79'] + census_2001['v_CA01_41: 75-79']\n",
        "census_2001 = census_2001.drop(columns=['v_CA01_22: 75-79', 'v_CA01_41: 75-79'])\n",
        "\n",
        "census_2001['80-84'] = census_2001['v_CA01_23: 80-84'] + census_2001['v_CA01_42: 80-84']\n",
        "census_2001 = census_2001.drop(columns=['v_CA01_23: 80-84', 'v_CA01_42: 80-84'])\n",
        "\n",
        "census_2001['85+'] = census_2001['v_CA01_24: 85+'] + census_2001['v_CA01_43: 85+']\n",
        "census_2001 = census_2001.drop(columns=['v_CA01_24: 85+', 'v_CA01_43: 85+'])\n",
        "\n",
        "# Check column names\n",
        "print(\"Column names:\")\n",
        "for col in census_2001.columns:\n",
        "    print(col)"
      ],
      "metadata": {
        "id": "lzjvyUJJ18gI"
      },
      "execution_count": null,
      "outputs": []
    },
    {
      "cell_type": "code",
      "source": [
        "# Merge population age buckets\n",
        "census_2001['Population 0 to 9'] = census_2001['0-4'] + census_2001['5-9']\n",
        "census_2001 = census_2001.drop(columns=['0-4', '5-9'])\n",
        "\n",
        "census_2001['Population 10 to 19'] = census_2001['10-14'] + census_2001['15-19']\n",
        "census_2001 = census_2001.drop(columns=['10-14', '15-19'])\n",
        "\n",
        "census_2001['Population 20 to 29'] = census_2001['20-24'] + census_2001['25-29']\n",
        "census_2001 = census_2001.drop(columns=['20-24', '25-29'])\n",
        "\n",
        "census_2001['Population 30 to 39'] = census_2001['30-34'] + census_2001['35-39']\n",
        "census_2001 = census_2001.drop(columns=['30-34', '35-39'])\n",
        "\n",
        "census_2001['Population 40 to 49'] = census_2001['40-44'] + census_2001['45-49']\n",
        "census_2001 = census_2001.drop(columns=['40-44', '45-49'])\n",
        "\n",
        "census_2001['Population 50 to 59'] = census_2001['50-54'] + census_2001['55-59']\n",
        "census_2001 = census_2001.drop(columns=['50-54', '55-59'])\n",
        "\n",
        "census_2001['Population 60 plus'] = census_2001['60-64'] + census_2001['65-69'] + census_2001['70-74'] + census_2001['75-79'] + census_2001['80-84'] + census_2001['85+']\n",
        "census_2001 = census_2001.drop(columns=['60-64', '65-69', '70-74', '75-79', '80-84', '85+'])\n",
        "\n",
        "# Check column names\n",
        "print(\"Column names:\")\n",
        "for col in census_2001.columns:\n",
        "    print(col)"
      ],
      "metadata": {
        "id": "1NxfZMdC5KN-"
      },
      "execution_count": null,
      "outputs": []
    },
    {
      "cell_type": "code",
      "source": [
        "# Merge no certificate or diploma\n",
        "census_2001['No certificate or diploma'] = census_2001['v_CA01_1387: Without high school graduation certificate']+ census_2001['v_CA01_1391: Without certificate or diploma'] + census_2001['v_CA01_1394: Without degree']\n",
        "census_2001 = census_2001.drop(columns=['v_CA01_1387: Without high school graduation certificate', 'v_CA01_1391: Without certificate or diploma', 'v_CA01_1394: Without degree'])\n",
        "\n",
        "# Merge regular maintenance\n",
        "census_2001['Regular maintenance'] = census_2001['v_CA01_102: Regular maintenance only']+ census_2001['v_CA01_103: Minor repairs']\n",
        "census_2001 = census_2001.drop(columns=['v_CA01_102: Regular maintenance only', 'v_CA01_103: Minor repairs'])\n",
        "\n",
        "# Merge transportation gender and other methods\n",
        "census_2001['Public transit'] = census_2001['v_CA01_1257: Public transit'] + census_2001['v_CA01_1266: Public transit']\n",
        "census_2001 = census_2001.drop(columns=['v_CA01_1257: Public transit', 'v_CA01_1266: Public transit'])\n",
        "\n",
        "census_2001['Walked'] = census_2001['v_CA01_1258: Walked'] + census_2001['v_CA01_1267: Walked']\n",
        "census_2001 = census_2001.drop(columns=['v_CA01_1258: Walked', 'v_CA01_1267: Walked'])\n",
        "\n",
        "census_2001['Bicycle'] = census_2001['v_CA01_1259: Bicycle'] + census_2001['v_CA01_1268: Bicycle']\n",
        "census_2001 = census_2001.drop(columns=['v_CA01_1259: Bicycle', 'v_CA01_1268: Bicycle'])\n",
        "\n",
        "census_2001['Transportation other methods'] = census_2001['v_CA01_1260: Motorcycle'] + census_2001['v_CA01_1261: Taxicab'] + census_2001['v_CA01_1262: Other method'] + census_2001['v_CA01_1269: Motorcycle'] + census_2001['v_CA01_1270: Taxicab'] + census_2001['v_CA01_1271: Other method']\n",
        "census_2001 = census_2001.drop(columns=['v_CA01_1260: Motorcycle', 'v_CA01_1261: Taxicab', 'v_CA01_1262: Other method', 'v_CA01_1269: Motorcycle', 'v_CA01_1270: Taxicab', 'v_CA01_1271: Other method'])\n",
        "\n",
        "census_2001['Transportation vehicle driver'] = census_2001['v_CA01_1255: Car, truck, van, as driver'] + census_2001['v_CA01_1264: Car, truck, van, as driver']\n",
        "census_2001 = census_2001.drop(columns=['v_CA01_1255: Car, truck, van, as driver', 'v_CA01_1264: Car, truck, van, as driver'])\n",
        "\n",
        "census_2001['Transportation vehicle non-driver'] = census_2001['v_CA01_1256: Car, truck, van, as passenger'] + census_2001['v_CA01_1265: Car, truck, van, as passenger']\n",
        "census_2001 = census_2001.drop(columns=['v_CA01_1256: Car, truck, van, as passenger', 'v_CA01_1265: Car, truck, van, as passenger'])\n",
        "\n",
        "# Check column names\n",
        "print(\"Column names:\")\n",
        "for col in census_2001.columns:\n",
        "    print(col)"
      ],
      "metadata": {
        "id": "9ToiRrwl7tSu"
      },
      "execution_count": null,
      "outputs": []
    },
    {
      "cell_type": "code",
      "source": [
        "# Drop useless variables\n",
        "census_2001 = census_2001.drop(columns=['Type_x', 'Region Name_x'])\n",
        "\n",
        "# Check column names\n",
        "print(\"Column names:\")\n",
        "for col in census_2001.columns:\n",
        "    print(col)"
      ],
      "metadata": {
        "id": "L0HIR_ke_1sJ"
      },
      "execution_count": null,
      "outputs": []
    },
    {
      "cell_type": "code",
      "source": [
        "# Rename: drop apostrophe\n",
        "census_2001[\"v_CA01_1397: With bachelors degree or higher\"] = census_2001[\"v_CA01_1397: With bachelor's degree or higher\"]\n",
        "census_2001 = census_2001.drop(columns=[\"v_CA01_1397: With bachelor's degree or higher\"])\n",
        "\n",
        "print(census_2001.columns.tolist())"
      ],
      "metadata": {
        "id": "MBEvZu1REsmq"
      },
      "execution_count": null,
      "outputs": []
    },
    {
      "cell_type": "code",
      "source": [
        "print(census_2001['v_CA01_1397: With bachelors degree or higher'])"
      ],
      "metadata": {
        "id": "iAJQl9e4FLtZ"
      },
      "execution_count": null,
      "outputs": []
    },
    {
      "cell_type": "code",
      "source": [
        "# Rename variables\n",
        "census_2001 = census_2001.rename(columns=\n",
        "  {'Area (sq km)_x': 'Area (sq km)', 'Population _x': 'Population', 'Dwellings _x': 'Dwellings',\n",
        "   'Households _x': 'Households', 'v_CA01_6: Male, total': 'Total male population', 'v_CA01_25: Female, total': 'Total female population',\n",
        "   'v_CA01_3: Population percentage change, 1996-2001': 'Population change (%)', 'v_CA01_45: Never legally married (single)': 'Never married', 'v_CA01_48: Divorced': 'Divorced',\n",
        "   'v_CA01_49: Widowed': 'Widowed', 'v_CA01_383: Movers': 'Movers', 'v_CA01_382: Non-movers': 'Non-movers',\n",
        "   'v_CA01_400: Canadian citizenship': 'Canadian citizens', 'v_CA01_385: Migrants': 'Migrants', 'v_CA01_384: Non-migrants': 'Non-migrants',\n",
        "   'v_CA01_386: Internal migrants': 'Internal migrants', 'v_CA01_389: External migrants': 'External migrants', 'v_CA01_703: Total visible minority population': 'Visible minority',\n",
        "   'v_CA01_716: All others': 'Non-visible minority', 'v_CA01_401: Citizenship other than Canadian': 'Non-Canadian citizens', 'v_CA01_403: Non-immigrant population': 'Non-immigrants',\n",
        "   'v_CA01_406: Total immigrants by selected places of birth': 'Immigrants', 'v_CA01_458: Non-permanent residents': 'Non-permanent residents', 'v_CA01_55: Married couples': 'Married couples',\n",
        "   'v_CA01_61: Common-law couples': 'Common-law couples', 'v_CA01_99: Owned': 'Owned housing', 'v_CA01_100: Rented': 'Rented housing',\n",
        "   'v_CA01_1634: Median household income $': 'Median household income $', 'v_CA01_1388: With high school graduation certificate': 'High school or Secondary degree', 'v_CA01_1392: With certificate or diploma': 'College or CEGEP degree',\n",
        "   'v_CA01_1389: Trades certificate or diploma': 'Trades certificate, diploma or apprenticeship', 'v_CA01_1397: With bachelors degree or higher': 'Bachelors degree or higher', 'v_CA01_118: Apartment, building that has fewer than five storeys': 'Apartment with fewer than five stories',\n",
        "   'v_CA01_117: Apartment, building that has five or more storeys': 'Apartment with five or more storeys', 'v_CA01_115: Row house': 'Row house', 'v_CA01_113: Single-detached house': 'Single-detached house',\n",
        "   'v_CA01_114: Semi-detached house': 'Semi-detached house', 'v_CA01_120: Movable dwelling': 'Movable dwelling', 'v_CA01_119: Other single-attached house': 'Other single-attached house',\n",
        "   'v_CA01_104: Major repairs': 'Major repairs', 'v_CA01_101: Band housing': 'Band housing', 'v_CA01_135: English': 'English only',\n",
        "   'v_CA01_136: French': 'French only', 'v_CA01_137: Non-official languages': 'Allophone ', 'v_CA01_1667: Average gross rent $': 'Average gross rent ($)',\n",
        "   'v_CA01_1674: Average value of dwelling $': 'Average value dwelling ($)', 'v_CA01_209: English and French': 'English and French', 'v_CA01_210: English and non-official language': 'English and non-official language(s)',\n",
        "   'v_CA01_211: French and non-official language': 'French and non-official language(s)', 'v_CA01_212: English, French and non-official language': 'English, French, and non-official language(s)', 'v_CA01_737: Employed': 'Employed',\n",
        "   'v_CA01_738: Unemployed': 'Unemployed'})\n",
        "\n",
        "# Check column names and length\n",
        "print(\"Column names:\")\n",
        "for col in census_2001.columns:\n",
        "    print(col)\n",
        "\n",
        "print(len(census_2001.columns))"
      ],
      "metadata": {
        "id": "efGc7-Mf75dj"
      },
      "execution_count": null,
      "outputs": []
    },
    {
      "cell_type": "code",
      "source": [
        "# Add year\n",
        "census_2001 = census_2001.add_suffix('_2001')\n",
        "\n",
        "# Check column names\n",
        "print(\"Column names:\")\n",
        "for col in census_2001.columns:\n",
        "    print(col)"
      ],
      "metadata": {
        "id": "XxgbACREkd22"
      },
      "execution_count": null,
      "outputs": []
    },
    {
      "cell_type": "code",
      "source": [
        "# Check values for each column\n",
        "census_2001.iloc[:60, 0:20]"
      ],
      "metadata": {
        "id": "QtVrvsPqMGU8"
      },
      "execution_count": null,
      "outputs": []
    },
    {
      "cell_type": "code",
      "source": [
        "# Export file to drive\n",
        "census_2001.to_csv('/content/drive/MyDrive/GentrificAItion/montreal_data_processing/data_cleaning/2_clean_data/2001_clean.csv', index=False)"
      ],
      "metadata": {
        "id": "xzHMsGN9HfjE"
      },
      "execution_count": null,
      "outputs": []
    },
    {
      "cell_type": "markdown",
      "source": [
        "# **2006**\n",
        "\n",
        "- merge population gender + merge population age buckets\n",
        "- merge regular maintenance\n",
        "- merge transportation others\n",
        "- calculate population percentage change and add\n",
        "- rename variables!"
      ],
      "metadata": {
        "id": "TZU0kDVExvhl"
      }
    },
    {
      "cell_type": "code",
      "source": [
        "census_2006 = pd.read_csv('/content/drive/MyDrive/GentrificAItion/montreal_data_processing/data_cleaning/1_raw_census_data/2006_data_variables.csv')\n",
        "\n",
        "# Print all column names\n",
        "print(\"Column names:\")\n",
        "for col in census_2006.columns:\n",
        "    print(col)"
      ],
      "metadata": {
        "id": "gEbBq1_fzCEv",
        "collapsed": true
      },
      "execution_count": null,
      "outputs": []
    },
    {
      "cell_type": "code",
      "source": [
        "# Remove white spaces\n",
        "census_2006.columns = census_2006.columns.str.strip()"
      ],
      "metadata": {
        "id": "qXU-NgjBtEAA"
      },
      "execution_count": null,
      "outputs": []
    },
    {
      "cell_type": "code",
      "source": [
        "# Convert all columns except the identifier to numeric\n",
        "ctuidcol = 'GeoUID'  # identifier column\n",
        "cols_to_convert = census_2006.columns.difference([ctuidcol])\n",
        "census_2006[cols_to_convert] = census_2006[cols_to_convert].apply(pd.to_numeric, errors='coerce')"
      ],
      "metadata": {
        "id": "RXQ4bKc9VQ6C"
      },
      "execution_count": null,
      "outputs": []
    },
    {
      "cell_type": "code",
      "source": [
        "# Merge population gender and age buckets\n",
        "census_2006['Population 0 to 9'] = census_2006['v_CA06_4: 0 to 4 years'] + census_2006['v_CA06_23: 0 to 4 years'] + census_2006['v_CA06_5: 5 to 9 years'] + census_2006['v_CA06_24: 5 to 9 years']\n",
        "census_2006 = census_2006.drop(columns=['v_CA06_4: 0 to 4 years', 'v_CA06_23: 0 to 4 years', 'v_CA06_5: 5 to 9 years', 'v_CA06_24: 5 to 9 years'])\n",
        "\n",
        "census_2006['Population 10 to 19'] = census_2006['v_CA06_6: 10 to 14 years'] + census_2006['v_CA06_25: 10 to 14 years'] + census_2006['v_CA06_7: 15 to 19 years'] + census_2006['v_CA06_26: 15 to 19 years']\n",
        "census_2006 = census_2006.drop(columns=['v_CA06_6: 10 to 14 years', 'v_CA06_25: 10 to 14 years', 'v_CA06_7: 15 to 19 years', 'v_CA06_26: 15 to 19 years'])\n",
        "\n",
        "census_2006['Population 20 to 29'] = census_2006['v_CA06_8: 20 to 24 years'] + census_2006['v_CA06_27: 20 to 24 years'] + census_2006['v_CA06_9: 25 to 29 years'] + census_2006['v_CA06_28: 25 to 29 years']\n",
        "census_2006 = census_2006.drop(columns=['v_CA06_8: 20 to 24 years', 'v_CA06_27: 20 to 24 years', 'v_CA06_9: 25 to 29 years', 'v_CA06_28: 25 to 29 years'])\n",
        "\n",
        "census_2006['Population 30 to 39'] = census_2006['v_CA06_10: 30 to 34 years'] + census_2006['v_CA06_29: 30 to 34 years'] + census_2006['v_CA06_11: 35 to 39 years'] + census_2006['v_CA06_30: 35 to 39 years']\n",
        "census_2006 = census_2006.drop(columns=['v_CA06_10: 30 to 34 years', 'v_CA06_29: 30 to 34 years', 'v_CA06_11: 35 to 39 years', 'v_CA06_30: 35 to 39 years'])\n",
        "\n",
        "census_2006['Population 40 to 49'] = census_2006['v_CA06_12: 40 to 44 years'] + census_2006['v_CA06_31: 40 to 44 years'] + census_2006['v_CA06_13: 45 to 49 years'] + census_2006['v_CA06_32: 45 to 49 years']\n",
        "census_2006 = census_2006.drop(columns=['v_CA06_12: 40 to 44 years', 'v_CA06_31: 40 to 44 years', 'v_CA06_13: 45 to 49 years', 'v_CA06_32: 45 to 49 years'])\n",
        "\n",
        "census_2006['Population 50 to 59'] = census_2006['v_CA06_14: 50 to 54 years'] + census_2006['v_CA06_33: 50 to 54 years'] + census_2006['v_CA06_15: 55 to 59 years'] + census_2006['v_CA06_34: 55 to 59 years']\n",
        "census_2006 = census_2006.drop(columns=['v_CA06_14: 50 to 54 years', 'v_CA06_33: 50 to 54 years', 'v_CA06_15: 55 to 59 years', 'v_CA06_34: 55 to 59 years'])\n",
        "\n",
        "census_2006['Population 60 plus'] = census_2006['v_CA06_16: 60 to 64 years'] + census_2006['v_CA06_35: 60 to 64 years'] + census_2006['v_CA06_17: 65 to 69 years'] + census_2006['v_CA06_36: 65 to 69 years'] + census_2006['v_CA06_18: 70 to 74 years'] + census_2006['v_CA06_37: 70 to 74 years'] + census_2006['v_CA06_19: 75 to 79 years'] + census_2006['v_CA06_38: 75 to 79 years'] + census_2006['v_CA06_20: 80 to 84 years'] + census_2006['v_CA06_39: 80 to 84 years'] + census_2006['v_CA06_21: 85 years and over'] + census_2006['v_CA06_40: 85 years and over']\n",
        "census_2006 = census_2006.drop(columns=['v_CA06_16: 60 to 64 years', 'v_CA06_35: 60 to 64 years', 'v_CA06_17: 65 to 69 years', 'v_CA06_36: 65 to 69 years', 'v_CA06_18: 70 to 74 years', 'v_CA06_37: 70 to 74 years', 'v_CA06_19: 75 to 79 years', 'v_CA06_38: 75 to 79 years', 'v_CA06_20: 80 to 84 years', 'v_CA06_39: 80 to 84 years', 'v_CA06_21: 85 years and over', 'v_CA06_40: 85 years and over'])\n",
        "\n",
        "# Check column names\n",
        "print(\"Column names:\")\n",
        "for col in census_2006.columns:\n",
        "    print(col)"
      ],
      "metadata": {
        "id": "Y0qBSOL86FKy"
      },
      "execution_count": null,
      "outputs": []
    },
    {
      "cell_type": "code",
      "source": [
        "# Merge regular maintenance\n",
        "census_2006['Regular maintenance'] = census_2006['v_CA06_106: Regular maintenance only']+ census_2006['v_CA06_107: Minor repairs']\n",
        "census_2006 = census_2006.drop(columns=['v_CA06_106: Regular maintenance only', 'v_CA06_107: Minor repairs'])\n",
        "\n",
        "# Merge transportion other methods\n",
        "census_2006['Transportation other methods'] = census_2006['v_CA06_1106: Motorcycle'] + census_2006['v_CA06_1107: Taxicab'] + census_2006['v_CA06_1108: Other method']\n",
        "census_2006 = census_2006.drop(columns=['v_CA06_1106: Motorcycle', 'v_CA06_1107: Taxicab', 'v_CA06_1108: Other method'])\n",
        "\n",
        "# Check all column names\n",
        "print(\"Column names:\")\n",
        "for col in census_2006.columns:\n",
        "    print(col)"
      ],
      "metadata": {
        "id": "tEzfI2As9OUC"
      },
      "execution_count": null,
      "outputs": []
    },
    {
      "cell_type": "code",
      "source": [
        " # Calculate population percentage change and add\n",
        "c_2001 = pd.read_csv('/content/drive/MyDrive/GentrificAItion/montreal_data_processing/data_cleaning/2_clean_data/2001_clean.csv')\n",
        "census_2006['Population change (%)'] = ((census_2006['Population '] - c_2001['Population_2001']) / c_2001['Population_2001'] * 100).round(1)\n",
        "\n",
        "print(census_2006['Population change (%)'])\n",
        "\n",
        "# Check column names\n",
        "print(\"Column names:\")\n",
        "for col in census_2006.columns:\n",
        "    print(col)"
      ],
      "metadata": {
        "id": "0gtSoEQC6Mmm"
      },
      "execution_count": null,
      "outputs": []
    },
    {
      "cell_type": "code",
      "source": [
        "# Drop useless variables\n",
        "census_2006 = census_2006.drop(columns=['Type', 'Region Name'])"
      ],
      "metadata": {
        "id": "mKaOjodNGMuI"
      },
      "execution_count": null,
      "outputs": []
    },
    {
      "cell_type": "code",
      "source": [
        "# Rename variables\n",
        "census_2006 = census_2006.rename(columns=\n",
        "  {'v_CA06_3: Male, total': 'Total male population', 'v_CA06_22: Female, total': 'Total female population',\n",
        "   'v_CA06_42: Never legally married (single)': 'Never married', 'v_CA06_45: Divorced': 'Divorced',\n",
        "   'v_CA06_46: Widowed': 'Widowed', 'v_CA06_453: Movers': 'Movers', 'v_CA06_452: Non-movers': 'Non-movers',\n",
        "   'v_CA06_470: Canadian citizens': 'Canadian citizens',\n",
        "   'v_CA06_455: Migrants': 'Migrants',\n",
        "   'v_CA06_454: Non-migrants': 'Non-migrants',\n",
        "   'v_CA06_456: Internal migrants': 'Internal migrants',\n",
        "   'v_CA06_459: External migrants': 'External migrants',\n",
        "   'v_CA06_1303: Total visible minority population': 'Visible minority',\n",
        "   'v_CA06_1316: Not a visible minority': 'Non-visible minority',\n",
        "   'v_CA06_473: Not Canadian citizens': 'Non-Canadian citizens',\n",
        "   'v_CA06_475: Non-immigrants': 'Non-immigrants',\n",
        "   'v_CA06_478: Immigrants': 'Immigrants',\n",
        "   'v_CA06_511: Non-permanent residents': 'Non-permanent residents',\n",
        "   'v_CA06_57: Married couples': 'Married couples',\n",
        "   'v_CA06_63: Common-law couples': 'Common-law couples',\n",
        "   'v_CA06_102: Owned': 'Owned housing',\n",
        "   'v_CA06_103: Rented': 'Rented housing',\n",
        "   'v_CA06_1249: No certificate, diploma or degree': 'No certificate or diploma',\n",
        "   'v_CA06_2000: Median household income $': 'Median household income $',\n",
        "   'v_CA06_1251: High school certificate or equivalent': 'High school or Secondary degree',\n",
        "   'v_CA06_1253: College, CEGEP or other non-university certificate or diploma': 'College or CEGEP degree',\n",
        "   'v_CA06_1252: Apprenticeship or trades certificate or diploma': 'Trades certificate, diploma or apprenticeship',\n",
        "   'v_CA06_1256: University certificate or degree': 'Bachelors degree or higher',\n",
        "   'v_CA06_125: Apartment, building that has fewer than five storeys': 'Apartment with fewer than five stories',\n",
        "   'v_CA06_124: Apartment, building that has five or more storeys': 'Apartment with five or more storeys',\n",
        "   'v_CA06_122: Row house': 'Row house',\n",
        "   'v_CA06_120: Single-detached house': 'Single-detached house',\n",
        "   'v_CA06_121: Semi-detached house': 'Semi-detached house',\n",
        "   'v_CA06_127: Movable dwelling': 'Movable dwelling',\n",
        "   'v_CA06_126: Other single-attached house': 'Other single-attached house',\n",
        "   'v_CA06_108: Major repairs': 'Major repairs',\n",
        "   'v_CA06_104: Band housing': 'Band housing',\n",
        "   'v_CA06_142: English': 'English only',\n",
        "   'v_CA06_143: French': 'French only',\n",
        "   'v_CA06_144: Non-official languages': 'Allophone ',\n",
        "   'v_CA06_2050: Average gross rent $': 'Average gross rent ($)',\n",
        "   'v_CA06_2054: Average value of dwelling $': 'Average value dwelling ($)',\n",
        "   'v_CA06_1103: Public transit' : 'Public transit',\n",
        "   'v_CA06_1104: Walked' : 'Walked',\n",
        "   'v_CA06_1105: Bicycle' : 'Bicycle',\n",
        "   'v_CA06_1101: Car, truck, van, as driver': 'Transportation vehicle driver',\n",
        "   'v_CA06_1102: Car, truck, van, as passenger' : 'Transportation vehicle non-driver',\n",
        "   'v_CA06_239: English and French': 'English and French',\n",
        "   'v_CA06_240: English and non-official language': 'English and non-official language(s)',\n",
        "   'v_CA06_241: French and non-official language': 'French and non-official language(s)',\n",
        "   'v_CA06_242: English, French and non-official language': 'English, French, and non-official language(s)',\n",
        "   'v_CA06_577: Employed': 'Employed',\n",
        "   'v_CA06_578: Unemployed': 'Unemployed'})\n",
        "\n",
        "# Check column names and length\n",
        "print(\"Column names:\")\n",
        "for col in census_2006.columns:\n",
        "    print(col)\n",
        "\n",
        "print(len(census_2006.columns))"
      ],
      "metadata": {
        "id": "oIyvyvaC6OnG"
      },
      "execution_count": null,
      "outputs": []
    },
    {
      "cell_type": "code",
      "source": [
        "# Add year\n",
        "census_2006 = census_2006.add_suffix('_2006')\n",
        "\n",
        "# Check column names\n",
        "print(\"Column names:\")\n",
        "for col in census_2006.columns:\n",
        "    print(col)"
      ],
      "metadata": {
        "id": "O46YXIUBlVNJ"
      },
      "execution_count": null,
      "outputs": []
    },
    {
      "cell_type": "code",
      "source": [
        "# Check values\n",
        "census_2006.iloc[:60, 0:20]"
      ],
      "metadata": {
        "id": "G5E7DI24XUua"
      },
      "execution_count": null,
      "outputs": []
    },
    {
      "cell_type": "code",
      "source": [
        "# Export file to drive\n",
        "census_2006.to_csv('/content/drive/MyDrive/GentrificAItion/montreal_data_processing/data_cleaning/2_clean_data/2006_clean.csv', index=False)"
      ],
      "metadata": {
        "id": "vhg_zTIuGYtc"
      },
      "execution_count": null,
      "outputs": []
    },
    {
      "cell_type": "markdown",
      "source": [
        "# **2011**\n",
        "- merge population age buckets\n",
        "- rename variables!\n",
        "- drop \"NHS Non Return Rate\" column"
      ],
      "metadata": {
        "id": "idSCit2TxvX4"
      }
    },
    {
      "cell_type": "code",
      "source": [
        "census_2011 = pd.read_csv('/content/drive/MyDrive/GentrificAItion/montreal_data_processing/data_cleaning/1_raw_census_data/2011_data_variables.csv')\n",
        "\n",
        "# Print all column names\n",
        "print(\"Column names:\")\n",
        "for col in census_2011.columns:\n",
        "    print(col)"
      ],
      "metadata": {
        "id": "HQ_SUUMVzCgf",
        "collapsed": true
      },
      "execution_count": null,
      "outputs": []
    },
    {
      "cell_type": "code",
      "source": [
        "# Remove white spaces\n",
        "census_2011.columns = census_2011.columns.str.strip()"
      ],
      "metadata": {
        "id": "rymQc517fHCi"
      },
      "execution_count": null,
      "outputs": []
    },
    {
      "cell_type": "code",
      "source": [
        "# Convert all columns except the identifier to numeric\n",
        "ctuidcol = 'GeoUID'  # identifier column\n",
        "cols_to_convert = census_2011.columns.difference([ctuidcol])\n",
        "census_2011[cols_to_convert] = census_2011[cols_to_convert].apply(pd.to_numeric, errors='coerce')"
      ],
      "metadata": {
        "id": "QdPgbyhWZwEp"
      },
      "execution_count": null,
      "outputs": []
    },
    {
      "cell_type": "code",
      "source": [
        "# Merge population age buckets\n",
        "census_2011['Population 0 to 9'] = census_2011['v_CA11F_8: 0 to 4 years'] + census_2011['v_CA11F_11: 5 to 9 years']\n",
        "census_2011 = census_2011.drop(columns=['v_CA11F_8: 0 to 4 years', 'v_CA11F_11: 5 to 9 years'])\n",
        "\n",
        "census_2011['Population 10 to 19'] = census_2011['v_CA11F_14: 10 to 14 years'] + census_2011['v_CA11F_17: 15 to 19 years']\n",
        "census_2011 = census_2011.drop(columns=['v_CA11F_14: 10 to 14 years', 'v_CA11F_17: 15 to 19 years'])\n",
        "\n",
        "census_2011['Population 20 to 29'] = census_2011['v_CA11F_35: 20 to 24 years'] + census_2011['v_CA11F_38: 25 to 29 years']\n",
        "census_2011 = census_2011.drop(columns=['v_CA11F_35: 20 to 24 years', 'v_CA11F_38: 25 to 29 years'])\n",
        "\n",
        "census_2011['Population 30 to 39'] = census_2011['v_CA11F_41: 30 to 34 years'] + census_2011['v_CA11F_44: 35 to 39 years']\n",
        "census_2011 = census_2011.drop(columns=['v_CA11F_41: 30 to 34 years', 'v_CA11F_44: 35 to 39 years'])\n",
        "\n",
        "census_2011['Population 40 to 49'] = census_2011['v_CA11F_47: 40 to 44 years'] + census_2011['v_CA11F_50: 45 to 49 years']\n",
        "census_2011 = census_2011.drop(columns=['v_CA11F_47: 40 to 44 years', 'v_CA11F_50: 45 to 49 years'])\n",
        "\n",
        "census_2011['Population 50 to 59'] = census_2011['v_CA11F_53: 50 to 54 years'] + census_2011['v_CA11F_56: 55 to 59 years']\n",
        "census_2011 = census_2011.drop(columns=['v_CA11F_53: 50 to 54 years', 'v_CA11F_56: 55 to 59 years'])\n",
        "\n",
        "census_2011['Population 60 plus'] = census_2011['v_CA11F_59: 60 to 64 years'] + census_2011['v_CA11F_62: 65 to 69 years'] + census_2011['v_CA11F_65: 70 to 74 years'] + census_2011['v_CA11F_68: 75 to 79 years'] + census_2011['v_CA11F_71: 80 to 84 years'] + census_2011['v_CA11F_74: 85 years and over']\n",
        "census_2011 = census_2011.drop(columns=['v_CA11F_59: 60 to 64 years', 'v_CA11F_62: 65 to 69 years', 'v_CA11F_65: 70 to 74 years', 'v_CA11F_68: 75 to 79 years', 'v_CA11F_71: 80 to 84 years', 'v_CA11F_74: 85 years and over'])\n",
        "\n",
        "# Check column names\n",
        "print(\"Column names:\")\n",
        "for col in census_2011.columns:\n",
        "    print(col)"
      ],
      "metadata": {
        "id": "O6WwcuSlfotf"
      },
      "execution_count": null,
      "outputs": []
    },
    {
      "cell_type": "code",
      "source": [
        " # Calculate population percentage change and add\n",
        "c_2006 = pd.read_csv('/content/drive/MyDrive/GentrificAItion/montreal_data_processing/data_cleaning/2_clean_data/2006_clean.csv')\n",
        "census_2011['Population change (%)'] = ((census_2011['Population'] - c_2006['Population_2006']) / c_2006['Population_2006'] * 100).round(1)\n",
        "\n",
        "print(census_2011['Population change (%)'])"
      ],
      "metadata": {
        "id": "vBu4HB-vg66w",
        "collapsed": true
      },
      "execution_count": null,
      "outputs": []
    },
    {
      "cell_type": "code",
      "source": [
        "# Drop useless variables\n",
        "census_2011 = census_2011.drop(columns=['NHS Non Return Rate', 'Type', 'Region Name'])\n",
        "\n",
        "# Check column names\n",
        "print(\"Column names:\")\n",
        "for col in census_2011.columns:\n",
        "    print(col)"
      ],
      "metadata": {
        "id": "7k113cEJgK_r"
      },
      "execution_count": null,
      "outputs": []
    },
    {
      "cell_type": "code",
      "source": [
        "# Rename variables\n",
        "census_2011 = census_2011.rename(columns=\n",
        "  {'v_CA11F_6: Total population by age groups': 'Total male population', 'v_CA11F_7: Total population by age groups': 'Total female population',\n",
        "   'v_CA11N_1720: Non-movers': 'Non-movers', 'v_CA11N_1723: Movers': 'Movers', 'v_CA11N_1726: Non-migrants': 'Non-migrants', 'v_CA11N_1729: Migrants': 'Migrants',\n",
        "   'v_CA11N_1732: Internal migrants': 'Internal migrants', 'v_CA11N_1741: External migrants': 'External migrants', 'v_CA11N_499: Not a visible minority': 'Non-visible minority',\n",
        "   'v_CA11N_460: Total visible minority population': 'Visible minority', 'v_CA11N_13: Not Canadian citizens': 'Non-Canadian citizens', 'v_CA11N_4: Canadian citizens': 'Canadian citizens',\n",
        "   'v_CA11N_19: Non-immigrants': 'Non-immigrants', 'v_CA11N_22: Immigrants': 'Immigrants', 'v_CA11N_46: Non-permanent residents': 'Non-permanent residents',\n",
        "   'v_CA11F_98: Single (never legally married)': 'Never married', 'v_CA11F_104: Divorced': 'Divorced', 'v_CA11F_107: Widowed': 'Widowed', 'v_CA11F_123: Common-law couples': 'Common-law couples', 'v_CA11F_117: Married couples': 'Married couples',\n",
        "   'v_CA11N_2562: Median household total income $': 'Median household income ($)', 'v_CA11N_1993: Employed': 'Employed', 'v_CA11N_1996: Unemployed': 'Unemployed',\n",
        "   'v_CA11N_1804: No certificate, diploma or degree': 'No certificate or diploma', 'v_CA11N_1807: High school diploma or equivalent': 'High school or Secondary degree',\n",
        "   'v_CA11N_1816: College, CEGEP or other non-university certificate or diploma': 'College or CEGEP degree', 'v_CA11N_1813: Apprenticeship or trades certificate or diploma': 'Trades certificate, diploma or apprenticeship',\n",
        "   'v_CA11N_1822: University certificate, diploma or degree at bachelor level or above': 'Bachelors degree or higher',\n",
        "   'v_CA11F_207: Apartment, building that has fewer than five storeys': 'Apartment with fewer than five stories', 'v_CA11F_201: Apartment, building that has five or more storeys': 'Apartment with five or more storeys',\n",
        "   'v_CA11F_205: Row house': 'Row house', 'v_CA11F_200: Single-detached house': 'Single-detached house', 'v_CA11F_204: Semi-detached house': 'Semi-detached house', 'v_CA11F_202: Movable dwelling': 'Movable dwelling', 'v_CA11F_208: Other single-attached house': 'Other single-attached house',\n",
        "   'v_CA11N_2292: Average monthly shelter costs for rented dwellings ($)': 'Average gross rent ($)', 'v_CA11N_2287: Average value of dwellings ($)': 'Average value dwelling ($)',\n",
        "   'v_CA11N_2232: Major repairs needed': 'Major repairs', 'v_CA11N_2231: Only regular maintenance or minor repairs needed': 'Regular maintenance',\n",
        "   'v_CA11N_2253: Owner': 'Owned housing', 'v_CA11N_2254: Renter': 'Rented housing', 'v_CA11N_2255: Band housing': 'Band housing',\n",
        "   'v_CA11N_2200: Public transit': 'Public transit', 'v_CA11N_2203: Walked': 'Walked', 'v_CA11N_2206: Bicycle': 'Bicycle',\n",
        "   'v_CA11N_2209: Other methods': 'Transportation other methods', 'v_CA11N_2194: Car, truck or van - as a driver': 'Transportation vehicle driver', 'v_CA11N_2197: Car, truck or van - as a passenger': 'Transportation vehicle non-driver',\n",
        "   'v_CA11F_224: English': 'English only', 'v_CA11F_227: French': 'French only', 'v_CA11F_539: English and French': 'English and French',\n",
        "   'v_CA11F_542: English and non-official language': 'English and non-official language(s)', 'v_CA11F_545: French and non-official language': 'French and non-official language(s)',\n",
        "   'v_CA11F_548: English, French and non-official language': 'English, French, and non-official language(s)', 'v_CA11F_230: Non-official languages': 'Allophone'\n",
        "   })\n",
        "\n",
        "# Check column names and length\n",
        "print(\"Column names:\")\n",
        "for col in census_2011.columns:\n",
        "    print(col)\n",
        "\n",
        "print(len(census_2011.columns))"
      ],
      "metadata": {
        "id": "-KZJNiRoo2PT"
      },
      "execution_count": null,
      "outputs": []
    },
    {
      "cell_type": "code",
      "source": [
        "# Add year\n",
        "census_2011 = census_2011.add_suffix('_2011')\n",
        "\n",
        "# Check column names\n",
        "print(\"Column names:\")\n",
        "for col in census_2011.columns:\n",
        "    print(col)"
      ],
      "metadata": {
        "id": "ijFDMLVSnxwP"
      },
      "execution_count": null,
      "outputs": []
    },
    {
      "cell_type": "code",
      "source": [
        "# Check values\n",
        "census_2011.iloc[:60, 0:20]"
      ],
      "metadata": {
        "id": "1SBQidTFbGlf"
      },
      "execution_count": null,
      "outputs": []
    },
    {
      "cell_type": "code",
      "source": [
        "# Export file to drive\n",
        "census_2011.to_csv('/content/drive/MyDrive/GentrificAItion/montreal_data_processing/data_cleaning/2_clean_data/2011_clean.csv' , index=False)"
      ],
      "metadata": {
        "id": "7tbq46bc0G5U"
      },
      "execution_count": null,
      "outputs": []
    },
    {
      "cell_type": "markdown",
      "source": [
        "# **2016**\n",
        "- merge population age buckets\n",
        "- rename variables!\n"
      ],
      "metadata": {
        "id": "zBYDH5MexvKl"
      }
    },
    {
      "cell_type": "code",
      "source": [
        "census_2016 = pd.read_csv('/content/drive/MyDrive/GentrificAItion/montreal_data_processing/data_cleaning/1_raw_census_data/2016_data_variables.csv')\n",
        "\n",
        "# Print all column names\n",
        "print(\"Column names:\")\n",
        "for col in census_2016.columns:\n",
        "    print(col)"
      ],
      "metadata": {
        "id": "ZViyHMMNzGC_"
      },
      "execution_count": null,
      "outputs": []
    },
    {
      "cell_type": "code",
      "source": [
        "# Remove white spaces\n",
        "census_2016.columns = census_2016.columns.str.strip()"
      ],
      "metadata": {
        "id": "uuGq99YmhQ_2"
      },
      "execution_count": null,
      "outputs": []
    },
    {
      "cell_type": "code",
      "source": [
        "# Convert all columns except the identifier to numeric\n",
        "ctuidcol = 'GeoUID'  # identifier column\n",
        "cols_to_convert = census_2016.columns.difference([ctuidcol])\n",
        "census_2016[cols_to_convert] = census_2016[cols_to_convert].apply(pd.to_numeric, errors='coerce')"
      ],
      "metadata": {
        "id": "46MLFcRmcFvI"
      },
      "execution_count": null,
      "outputs": []
    },
    {
      "cell_type": "code",
      "source": [
        "# Merge population age buckets\n",
        "census_2016['Population 0 to 9'] = census_2016['v_CA16_7: 0 to 4 years'] + census_2016['v_CA16_25: 5 to 9 years']\n",
        "census_2016 = census_2016.drop(columns=['v_CA16_7: 0 to 4 years', 'v_CA16_25: 5 to 9 years'])\n",
        "\n",
        "census_2016['Population 10 to 19'] = census_2016['v_CA16_43: 10 to 14 years'] + census_2016['v_CA16_64: 15 to 19 years']\n",
        "census_2016 = census_2016.drop(columns=['v_CA16_43: 10 to 14 years', 'v_CA16_64: 15 to 19 years'])\n",
        "\n",
        "census_2016['Population 20 to 29'] = census_2016['v_CA16_82: 20 to 24 years'] + census_2016['v_CA16_100: 25 to 29 years']\n",
        "census_2016 = census_2016.drop(columns=['v_CA16_82: 20 to 24 years', 'v_CA16_100: 25 to 29 years'])\n",
        "\n",
        "census_2016['Population 30 to 39'] = census_2016['v_CA16_118: 30 to 34 years'] + census_2016['v_CA16_136: 35 to 39 years']\n",
        "census_2016 = census_2016.drop(columns=['v_CA16_118: 30 to 34 years', 'v_CA16_136: 35 to 39 years'])\n",
        "\n",
        "census_2016['Population 40 to 49'] = census_2016['v_CA16_154: 40 to 44 years'] + census_2016['v_CA16_172: 45 to 49 years']\n",
        "census_2016 = census_2016.drop(columns=['v_CA16_154: 40 to 44 years', 'v_CA16_172: 45 to 49 years'])\n",
        "\n",
        "census_2016['Population 50 to 59'] = census_2016['v_CA16_190: 50 to 54 years'] + census_2016['v_CA16_208: 55 to 59 years']\n",
        "census_2016 = census_2016.drop(columns=['v_CA16_190: 50 to 54 years', 'v_CA16_208: 55 to 59 years'])\n",
        "\n",
        "census_2016['Population 60 plus'] = census_2016['v_CA16_226: 60 to 64 years'] + census_2016['v_CA16_247: 65 to 69 years'] + census_2016['v_CA16_265: 70 to 74 years'] + census_2016['v_CA16_283: 75 to 79 years'] + census_2016['v_CA16_301: 80 to 84 years'] + census_2016['v_CA16_319: 85 years and over']\n",
        "census_2016 = census_2016.drop(columns=['v_CA16_226: 60 to 64 years', 'v_CA16_247: 65 to 69 years', 'v_CA16_265: 70 to 74 years', 'v_CA16_283: 75 to 79 years', 'v_CA16_301: 80 to 84 years', 'v_CA16_319: 85 years and over'])\n",
        "\n",
        "# Check column names\n",
        "print(\"Column names:\")\n",
        "for col in census_2016.columns:\n",
        "    print(col)"
      ],
      "metadata": {
        "id": "2-9f4BaRmvhz"
      },
      "execution_count": null,
      "outputs": []
    },
    {
      "cell_type": "code",
      "source": [
        "# Drop useless variables\n",
        "census_2016 = census_2016.drop(columns=['Type','Region Name'])\n",
        "\n",
        "# Check column names\n",
        "print(\"Column names:\")\n",
        "for col in census_2016.columns:\n",
        "    print(col)"
      ],
      "metadata": {
        "id": "UIy5MXairK4f"
      },
      "execution_count": null,
      "outputs": []
    },
    {
      "cell_type": "code",
      "source": [
        "# Rename variables\n",
        "census_2016 = census_2016.rename(columns=\n",
        "  {'v_CA16_2: Age Stats': 'Total male population', 'v_CA16_3: Age Stats': 'Total female population', 'v_CA16_403: Population percentage change, 2011 to 2016': 'Population change (%)',\n",
        "   'v_CA16_6695: Non-movers': 'Non-movers', 'v_CA16_6698: Movers': 'Movers', 'v_CA16_6701: Non-migrants': 'Non-migrants', 'v_CA16_6704: Migrants': 'Migrants',\n",
        "   'v_CA16_6707: Internal migrants': 'Internal migrants', 'v_CA16_6716: External migrants': 'External migrants', 'v_CA16_3996: Not a visible minority': 'Non-visible minority',\n",
        "   'v_CA16_3957: Total visible minority population': 'Visible minority', 'v_CA16_3402: Not Canadian citizens': 'Non-Canadian citizens', 'v_CA16_3393: Canadian citizens': 'Canadian citizens',\n",
        "   'v_CA16_3408: Non-immigrants': 'Non-immigrants', 'v_CA16_3411: Immigrants': 'Immigrants', 'v_CA16_3435: Non-permanent residents': 'Non-permanent residents',\n",
        "   'v_CA16_466: Never married': 'Never married', 'v_CA16_472: Divorced': 'Divorced', 'v_CA16_475: Widowed': 'Widowed', 'v_CA16_487: Common-law couples': 'Common-law couples', 'v_CA16_486: Married couples': 'Married couples',\n",
        "   'v_CA16_2397: Median total income of households in 2015 ($)': 'Median household income ($)', 'v_CA16_5603: Employed': 'Employed', 'v_CA16_5606: Unemployed': 'Unemployed',\n",
        "   'v_CA16_5099: No certificate, diploma or degree': 'No certificate or diploma', 'v_CA16_5102: Secondary (high) school diploma or equivalency certificate': 'High school or Secondary degree',\n",
        "   'v_CA16_5117: College, CEGEP or other non-university certificate or diploma': 'College or CEGEP degree', 'v_CA16_5108: Apprenticeship or trades certificate or diploma': 'Trades certificate, diploma or apprenticeship',\n",
        "   'v_CA16_5123: University certificate, diploma or degree at bachelor level or above': 'Bachelors degree or higher',\n",
        "   'v_CA16_415: Apartment in a building that has fewer than five storeys': 'Apartment with fewer than five stories', 'v_CA16_410: Apartment in a building that has five or more storeys': 'Apartment with five or more storeys',\n",
        "   'v_CA16_413: Row house': 'Row house', 'v_CA16_409: Single-detached house': 'Single-detached house', 'v_CA16_412: Semi-detached house': 'Semi-detached house', 'v_CA16_417: Movable dwelling': 'Movable dwelling', 'v_CA16_416: Other single-attached house': 'Other single-attached house',\n",
        "   'v_CA16_4901: Average monthly shelter costs for rented dwellings ($)': 'Average gross rent ($)', 'v_CA16_4896: Average value of dwellings ($)': 'Average value dwelling ($)',\n",
        "   'v_CA16_4872: Major repairs needed': 'Major repairs', 'v_CA16_4871: Only regular maintenance or minor repairs needed': 'Regular maintenance',\n",
        "   'v_CA16_4837: Owner': 'Owned housing', 'v_CA16_4838: Renter': 'Rented housing', 'v_CA16_4839: Band housing': 'Band housing',\n",
        "   'v_CA16_5801: Public transit': 'Public transit', 'v_CA16_5804: Walked': 'Walked', 'v_CA16_5807: Bicycle': 'Bicycle',\n",
        "   'v_CA16_5810: Other method': 'Transportation other methods', 'v_CA16_5795: Car, truck, van - as a driver': 'Transportation vehicle driver', 'v_CA16_5798: Car, truck, van - as a passenger': 'Transportation vehicle non-driver',\n",
        "   'v_CA16_557: English': 'English only', 'v_CA16_560: French': 'French only', 'v_CA16_1343: English and French': 'English and French',\n",
        "   'v_CA16_1346: English and non-official language': 'English and non-official language(s)', 'v_CA16_1349: French and non-official language': 'French and non-official language(s)',\n",
        "   'v_CA16_1352: English, French and non-official language': 'English, French, and non-official language(s)', 'v_CA16_563: Non-official languages': 'Allophone'\n",
        "   })\n",
        "\n",
        "# Check column names and length\n",
        "print(\"Column names:\")\n",
        "for col in census_2016.columns:\n",
        "    print(col)\n",
        "\n",
        "print(len(census_2016.columns))"
      ],
      "metadata": {
        "collapsed": true,
        "id": "iMUVWPHHmjlz"
      },
      "execution_count": null,
      "outputs": []
    },
    {
      "cell_type": "code",
      "source": [
        "# Add year\n",
        "census_2016 = census_2016.add_suffix('_2016')\n",
        "\n",
        "# Check column names\n",
        "print(\"Column names:\")\n",
        "for col in census_2016.columns:\n",
        "    print(col)"
      ],
      "metadata": {
        "id": "6pNEhF7VnUri"
      },
      "execution_count": null,
      "outputs": []
    },
    {
      "cell_type": "code",
      "source": [
        "# Check values\n",
        "census_2016.iloc[:60, 0:20]"
      ],
      "metadata": {
        "id": "W6FqyrlncRXe"
      },
      "execution_count": null,
      "outputs": []
    },
    {
      "cell_type": "code",
      "source": [
        "# Export file to drive\n",
        "census_2016.to_csv('/content/drive/MyDrive/GentrificAItion/montreal_data_processing/data_cleaning/2_clean_data/2016_clean.csv' , index=False)"
      ],
      "metadata": {
        "id": "PMRz22GN7Loa"
      },
      "execution_count": null,
      "outputs": []
    },
    {
      "cell_type": "markdown",
      "source": [
        "# **2021**\n",
        "- merge population age buckets\n",
        "- merge \"Multiple non-official languages\" column and \"Non-official languages\" column\n",
        "- rename variables!\n"
      ],
      "metadata": {
        "id": "JaXo6qnFx2PQ"
      }
    },
    {
      "cell_type": "code",
      "source": [
        "census_2021 = pd.read_csv('/content/drive/MyDrive/GentrificAItion/montreal_data_processing/data_cleaning/1_raw_census_data/2021_data_variables.csv')\n",
        "\n",
        "# Print all column names\n",
        "print(\"Column names:\")\n",
        "for col in census_2021.columns:\n",
        "    print(col)"
      ],
      "metadata": {
        "id": "K34fIe7rzGpQ",
        "collapsed": true
      },
      "execution_count": null,
      "outputs": []
    },
    {
      "cell_type": "code",
      "source": [
        "# Remove white spaces\n",
        "census_2021.columns = census_2021.columns.str.strip()"
      ],
      "metadata": {
        "id": "PSblrfgk-Nft"
      },
      "execution_count": null,
      "outputs": []
    },
    {
      "cell_type": "code",
      "source": [
        "# Convert all columns except the identifier to numeric\n",
        "ctuidcol = 'GeoUID'  # identifier column\n",
        "cols_to_convert = census_2021.columns.difference([ctuidcol])\n",
        "census_2021[cols_to_convert] = census_2021[cols_to_convert].apply(pd.to_numeric, errors='coerce')"
      ],
      "metadata": {
        "id": "VCS_RsIWdmyA"
      },
      "execution_count": null,
      "outputs": []
    },
    {
      "cell_type": "code",
      "source": [
        "# Merge population age buckets\n",
        "census_2021['Population 0 to 9'] = census_2021['v_CA21_14: 0 to 4 years'] + census_2021['v_CA21_32: 5 to 9 years']\n",
        "census_2021 = census_2021.drop(columns=['v_CA21_14: 0 to 4 years', 'v_CA21_32: 5 to 9 years'])\n",
        "\n",
        "census_2021['Population 10 to 19'] = census_2021['v_CA21_50: 10 to 14 years'] + census_2021['v_CA21_71: 15 to 19 years']\n",
        "census_2021 = census_2021.drop(columns=['v_CA21_50: 10 to 14 years', 'v_CA21_71: 15 to 19 years'])\n",
        "\n",
        "census_2021['Population 20 to 29'] = census_2021['v_CA21_89: 20 to 24 years'] + census_2021['v_CA21_107: 25 to 29 years']\n",
        "census_2021 = census_2021.drop(columns=['v_CA21_89: 20 to 24 years', 'v_CA21_107: 25 to 29 years'])\n",
        "\n",
        "census_2021['Population 30 to 39'] = census_2021['v_CA21_125: 30 to 34 years'] + census_2021['v_CA21_143: 35 to 39 years']\n",
        "census_2021 = census_2021.drop(columns=['v_CA21_125: 30 to 34 years', 'v_CA21_143: 35 to 39 years'])\n",
        "\n",
        "census_2021['Population 40 to 49'] = census_2021['v_CA21_161: 40 to 44 years'] + census_2021['v_CA21_179: 45 to 49 years']\n",
        "census_2021 = census_2021.drop(columns=['v_CA21_161: 40 to 44 years', 'v_CA21_179: 45 to 49 years'])\n",
        "\n",
        "census_2021['Population 50 to 59'] = census_2021['v_CA21_197: 50 to 54 years'] + census_2021['v_CA21_215: 55 to 59 years']\n",
        "census_2021 = census_2021.drop(columns=['v_CA21_197: 50 to 54 years', 'v_CA21_215: 55 to 59 years'])\n",
        "\n",
        "census_2021['Population 60 plus'] = census_2021['v_CA21_233: 60 to 64 years'] + census_2021['v_CA21_254: 65 to 69 years'] + census_2021['v_CA21_272: 70 to 74 years'] + census_2021['v_CA21_290: 75 to 79 years'] + census_2021['v_CA21_308: 80 to 84 years'] + census_2021['v_CA21_326: 85 years and over']\n",
        "census_2021 = census_2021.drop(columns=['v_CA21_233: 60 to 64 years', 'v_CA21_254: 65 to 69 years', 'v_CA21_272: 70 to 74 years', 'v_CA21_290: 75 to 79 years', 'v_CA21_308: 80 to 84 years', 'v_CA21_326: 85 years and over'])\n",
        "\n",
        "# Check column names and length\n",
        "print(\"Column names:\")\n",
        "for col in census_2021.columns:\n",
        "    print(col)"
      ],
      "metadata": {
        "id": "uBCeTFc2ovUt"
      },
      "execution_count": null,
      "outputs": []
    },
    {
      "cell_type": "code",
      "source": [
        "# Merge non-official languages and multiple non-official languages\n",
        "census_2021['Allophone'] = census_2021['v_CA21_2215: Non-official languages'] + census_2021['v_CA21_3190: Multiple non-official languages']\n",
        "census_2021 = census_2021.drop(columns=['v_CA21_2215: Non-official languages', 'v_CA21_3190: Multiple non-official languages'])"
      ],
      "metadata": {
        "id": "7FVk7TLfnCbb"
      },
      "execution_count": null,
      "outputs": []
    },
    {
      "cell_type": "code",
      "source": [
        "# Drop useless variables\n",
        "census_2021 = census_2021.drop(columns=['Type','Region Name'])\n",
        "\n",
        "# Check column names\n",
        "print(\"Column names:\")\n",
        "for col in census_2021.columns:\n",
        "    print(col)"
      ],
      "metadata": {
        "id": "JZBx5Rbe-b8b"
      },
      "execution_count": null,
      "outputs": []
    },
    {
      "cell_type": "code",
      "source": [
        "# Rename variables\n",
        "census_2021 = census_2021.rename(columns=\n",
        "  {'v_CA21_9: Total - Age': 'Total male population', 'v_CA21_10: Total - Age': 'Total female population', 'v_CA21_3: Population percentage change, 2016 to 2021': 'Population change (%)',\n",
        "   'v_CA21_5748: Non-movers': 'Non-movers', 'v_CA21_5751: Movers': 'Movers', 'v_CA21_5754: Non-migrants': 'Non-migrants', 'v_CA21_5757: Migrants': 'Migrants',\n",
        "   'v_CA21_5760: Internal migrants': 'Internal migrants', 'v_CA21_5769: External migrants': 'External migrants',\n",
        "   'v_CA21_4914: Not a visible minority': 'Non-visible minority', 'v_CA21_4875: Total visible minority population': 'Visible minority',\n",
        "   'v_CA21_4401: Not Canadian citizens': 'Non-Canadian citizens', 'v_CA21_4392: Canadian citizens': 'Canadian citizens',\n",
        "   'v_CA21_4407: Non-immigrants': 'Non-immigrants', 'v_CA21_4410: Immigrants': 'Immigrants', 'v_CA21_4434: Non-permanent residents': 'Non-permanent residents',\n",
        "   'v_CA21_480: Never married': 'Never married', 'v_CA21_486: Divorced': 'Divorced', 'v_CA21_489: Widowed': 'Widowed', 'v_CA21_504: Common-law couples': 'Common-law couples', 'v_CA21_501: Married couples': 'Married couples',\n",
        "   'v_CA21_906: Median total income of household in 2020 ($)': 'Median household income ($)', 'v_CA21_6498: Employed': 'Employed', 'v_CA21_6501: Unemployed': 'Unemployed',\n",
        "   'v_CA21_5868: No certificate, diploma or degree': 'No certificate or diploma', 'v_CA21_5814: With high school diploma or equivalency certificate': 'High school or Secondary degree',\n",
        "   'v_CA21_5889: College, CEGEP or other non-university certificate or diploma': 'College or CEGEP degree', 'v_CA21_5880: Apprenticeship or trades certificate or diploma': 'Trades certificate, diploma or apprenticeship',\n",
        "   \"v_CA21_5895: Bachelor's degree or higher\": \"Bachelors degree or higher\",\n",
        "   'v_CA21_439: Apartment in a building that has fewer than five storeys': 'Apartment with fewer than five stories', 'v_CA21_440: Apartment in a building that has five or more storeys': 'Apartment with five or more storeys',\n",
        "   'v_CA21_437: Row house': 'Row house', 'v_CA21_435: Single-detached house': 'Single-detached house', 'v_CA21_436: Semi-detached house': 'Semi-detached house', 'v_CA21_442: Movable dwelling': 'Movable dwelling', 'v_CA21_441: Other single-attached house': 'Other single-attached house',\n",
        "   'v_CA21_4318: Average monthly shelter costs for rented dwellings ($) (59)': 'Average gross rent ($)', 'v_CA21_4312: Average value of dwellings ($) (60)': 'Average value dwelling ($)',\n",
        "   'v_CA21_4274: Major repairs needed': 'Major repairs', 'v_CA21_4273: Only regular maintenance and minor repairs needed': 'Regular maintenance',\n",
        "   'v_CA21_4238: Owner': 'Owned housing', 'v_CA21_4239: Renter': 'Rented housing', 'v_CA21_4240: Dwelling provided by the local government, First Nation or Indian band': 'Band housing',\n",
        "   'v_CA21_7644: Public transit': 'Public transit', 'v_CA21_7647: Walked': 'Walked', 'v_CA21_7650: Bicycle': 'Bicycle',\n",
        "   'v_CA21_7653: Other method': 'Transportation other methods', 'v_CA21_7638: Car, truck or van - as a driver': 'Transportation vehicle driver', 'v_CA21_7641: Car, truck or van - as a passenger': 'Transportation vehicle non-driver',\n",
        "   'v_CA21_2209: English': 'English only', 'v_CA21_2212: French': 'French only', 'v_CA21_3178: English and French': 'English and French',\n",
        "   'v_CA21_3181: English and non-official language(s)': 'English and non-official language(s)', 'v_CA21_3184: French and non-official language(s)': 'French and non-official language(s)',\n",
        "   'v_CA21_3187: English, French and non-official language(s)': 'English, French, and non-official language(s)'\n",
        "   })\n",
        "\n",
        "# Check column names and length\n",
        "print(\"Column names:\")\n",
        "for col in census_2021.columns:\n",
        "    print(col)\n",
        "\n",
        "print(len(census_2021.columns))"
      ],
      "metadata": {
        "id": "oCJKBCUU0LU5",
        "collapsed": true
      },
      "execution_count": null,
      "outputs": []
    },
    {
      "cell_type": "code",
      "source": [
        "# Add year\n",
        "census_2021 = census_2021.add_suffix('_2021')\n",
        "\n",
        "# Check column names\n",
        "print(\"Column names:\")\n",
        "for col in census_2021.columns:\n",
        "    print(col)"
      ],
      "metadata": {
        "id": "bMarW17umll0"
      },
      "execution_count": null,
      "outputs": []
    },
    {
      "cell_type": "code",
      "source": [
        "# Check values\n",
        "census_2021.iloc[:60, 0:20]"
      ],
      "metadata": {
        "id": "0QrXPq9Pfq4q"
      },
      "execution_count": null,
      "outputs": []
    },
    {
      "cell_type": "code",
      "source": [
        "# Export file to drive\n",
        "census_2021.to_csv('/content/drive/MyDrive/GentrificAItion/montreal_data_processing/data_cleaning/2_clean_data/2021_clean.csv' , index=False)"
      ],
      "metadata": {
        "id": "WowzVrSAX3Wl"
      },
      "execution_count": null,
      "outputs": []
    }
  ]
}