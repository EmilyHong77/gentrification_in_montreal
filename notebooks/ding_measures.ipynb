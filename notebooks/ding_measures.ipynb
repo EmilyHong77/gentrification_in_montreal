{
  "nbformat": 4,
  "nbformat_minor": 0,
  "metadata": {
    "colab": {
      "provenance": [],
      "toc_visible": true,
      "authorship_tag": "ABX9TyP2796HtJIcNszVVEetlEus",
      "include_colab_link": true
    },
    "kernelspec": {
      "name": "python3",
      "display_name": "Python 3"
    },
    "language_info": {
      "name": "python"
    }
  },
  "cells": [
    {
      "cell_type": "markdown",
      "metadata": {
        "id": "view-in-github",
        "colab_type": "text"
      },
      "source": [
        "<a href=\"https://colab.research.google.com/github/EmilyHong77/gentrification_in_montreal/blob/main/notebooks/ding_measures.ipynb\" target=\"_parent\"><img src=\"https://colab.research.google.com/assets/colab-badge.svg\" alt=\"Open In Colab\"/></a>"
      ]
    },
    {
      "cell_type": "markdown",
      "source": [
        "**Mount Drive**"
      ],
      "metadata": {
        "id": "XeiGaWPDqu8M"
      }
    },
    {
      "cell_type": "code",
      "source": [
        "from google.colab import drive\n",
        "drive.mount('/content/drive')"
      ],
      "metadata": {
        "id": "H-tK2gSsq2-v"
      },
      "execution_count": null,
      "outputs": []
    },
    {
      "cell_type": "markdown",
      "source": [
        "**Ding Measurements**\n",
        "1. Gentrifiable Measure\n",
        "2. Gentrified Measure\n",
        "3. Gentrification Levels\n"
      ],
      "metadata": {
        "id": "p6kaVvcoq_up"
      }
    },
    {
      "cell_type": "markdown",
      "source": [
        "## Gentrifiable Measure\n",
        "\n",
        "**Formula**:<br>\n",
        "median household income < median of CMA"
      ],
      "metadata": {
        "id": "GM-GYa0A9TuG"
      }
    },
    {
      "cell_type": "code",
      "source": [],
      "metadata": {
        "id": "j0ZYKZAyAgmY"
      },
      "execution_count": null,
      "outputs": []
    },
    {
      "cell_type": "markdown",
      "source": [
        "## Gentrified Measure\n",
        "\n",
        "**Formula:**<br>\n",
        "increase university degrees > median for CMA <br>\n",
        "increase in housing value > median for CMA <br>\n",
        "increase in renting costs > median for CMA"
      ],
      "metadata": {
        "id": "5V58stIV-Q4d"
      }
    },
    {
      "cell_type": "code",
      "source": [],
      "metadata": {
        "id": "BJdBg54KAhBJ"
      },
      "execution_count": null,
      "outputs": []
    },
    {
      "cell_type": "markdown",
      "source": [
        "## Gentrification Levels\n",
        "\n",
        "**Formula:**<br>\n",
        "Weak: rent or housing value increased ≤\n",
        " 25th percentile<br>\n",
        "Moderate: rent or housing value increased with the 25th - 75th percentile<br>\n",
        "Intense: rent or housing value increased > 75th percentile\n"
      ],
      "metadata": {
        "id": "0rmf6_Xc_Ovj"
      }
    },
    {
      "cell_type": "code",
      "source": [],
      "metadata": {
        "id": "Lw3Gtl8dAhgv"
      },
      "execution_count": null,
      "outputs": []
    }
  ]
}