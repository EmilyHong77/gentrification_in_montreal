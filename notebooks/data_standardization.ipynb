{
  "nbformat": 4,
  "nbformat_minor": 0,
  "metadata": {
    "colab": {
      "provenance": [],
      "include_colab_link": true
    },
    "kernelspec": {
      "name": "python3",
      "display_name": "Python 3"
    },
    "language_info": {
      "name": "python"
    }
  },
  "cells": [
    {
      "cell_type": "markdown",
      "metadata": {
        "id": "view-in-github",
        "colab_type": "text"
      },
      "source": [
        "<a href=\"https://colab.research.google.com/github/EmilyHong77/gentrification_in_montreal/blob/main/notebooks/data_standardization.ipynb\" target=\"_parent\"><img src=\"https://colab.research.google.com/assets/colab-badge.svg\" alt=\"Open In Colab\"/></a>"
      ]
    },
    {
      "cell_type": "markdown",
      "source": [
        "**Information**<br>\n",
        "Crosswalk Source: <br>\n",
        "https://github.com/jamaps/CLTD/tree/master/crosswalk_tables\n",
        "\n",
        "This notebook performs standardization of census data across multiple years (2001 to 2021). Key steps include applying weighting methodology to population-based and dwelling-based variables (e.g., total and age-specific population counts, citizenship and migration status, marital status, education attainment, employment and unemployment, commuting modes, and language use), as well as household and dwelling characteristics (e.g., dwelling type, condition, and tenure).\n",
        "Income and housing cost measures (e.g., median household income, average gross rent, and average dwelling value) are standardized through proportional weighting, while select indicators (e.g., population change %) require manual calculation. Placeholders are removed where census tracts do not have valid matches across years.\n",
        "Steps vary for census years, depending on variable availability, weighting structure, or tract boundary changes across years.\n",
        "This process prepares the datasets for Ding measurement application."
      ],
      "metadata": {
        "id": "Dmdqtlejzs3O"
      }
    },
    {
      "cell_type": "markdown",
      "source": [
        "**Mount Drive**"
      ],
      "metadata": {
        "id": "cL5eFOBO_xZH"
      }
    },
    {
      "cell_type": "code",
      "source": [
        "from google.colab import drive\n",
        "drive.mount('/content/drive')"
      ],
      "metadata": {
        "id": "DECFLoTH0foy",
        "colab": {
          "base_uri": "https://localhost:8080/"
        },
        "outputId": "aa1d68fe-176b-4b1d-cb4d-aad539860e11"
      },
      "execution_count": 1,
      "outputs": [
        {
          "output_type": "stream",
          "name": "stdout",
          "text": [
            "Mounted at /content/drive\n"
          ]
        }
      ]
    },
    {
      "cell_type": "markdown",
      "source": [
        "**Library**"
      ],
      "metadata": {
        "id": "KBLlYaPa_9IN"
      }
    },
    {
      "cell_type": "code",
      "source": [
        "import pandas as pd\n",
        "import numpy as np"
      ],
      "metadata": {
        "id": "puW4_VhV2QWz"
      },
      "execution_count": 2,
      "outputs": []
    },
    {
      "cell_type": "markdown",
      "source": [
        "# 1996 Standardization"
      ],
      "metadata": {
        "id": "4WtJxWQbmWuj"
      }
    },
    {
      "cell_type": "markdown",
      "source": [
        "**1996→2021 Crosswalk Summary**: <br>\n",
        "\n",
        "unique source_ctuid: 4219 <br>\n",
        "unique target_ctuid: 5959 <br>\n",
        "Final 1996 Standardized Table Shape: 5959 rows x 2 columns"
      ],
      "metadata": {
        "id": "PqXw6q59qiLh"
      }
    },
    {
      "cell_type": "code",
      "source": [
        "# Read in the data\n",
        "census_1996 = pd.read_csv('/content/drive/MyDrive/GentrificAItion/montreal_data_processing/data_cleaning/2_clean_data/1996_clean.csv')\n",
        "\n",
        "# Read in crosswalk table\n",
        "cw_1996_2021 = pd.read_csv('/content/drive/MyDrive/GentrificAItion/montreal_data_processing/data_cleaning/3_census_crosswalks/ct_1996_2021.csv')"
      ],
      "metadata": {
        "id": "LKKDGWj4mgfK"
      },
      "execution_count": null,
      "outputs": []
    },
    {
      "cell_type": "code",
      "source": [
        "# Define CTUID column name\n",
        "ctuidcol = \"GeoUID_1996\"\n",
        "\n",
        "# w_pop variable\n",
        "field_pop = [\n",
        "    \"Population_1996\"\n",
        "    ]"
      ],
      "metadata": {
        "id": "50K6Mlndvgod"
      },
      "execution_count": null,
      "outputs": []
    },
    {
      "cell_type": "code",
      "source": [
        "# Remove placeholder CTUIDs (-1.0) before merging\n",
        "cw_1996_2021 = cw_1996_2021[\n",
        "    (cw_1996_2021['source_ctuid'] != -1.0) &\n",
        "    (cw_1996_2021['target_ctuid'] != -1.0)\n",
        "]"
      ],
      "metadata": {
        "id": "9i9fmQoIQS3v"
      },
      "execution_count": null,
      "outputs": []
    },
    {
      "cell_type": "code",
      "source": [
        "# Joining the two input tables (following model code structure exactly)\n",
        "merged = cw_1996_2021.merge(\n",
        "    census_1996,\n",
        "    how=\"outer\",\n",
        "    left_on=\"source_ctuid\",\n",
        "    right_on=ctuidcol,\n",
        "    indicator=True\n",
        ")\n",
        "\n",
        "print(merged['_merge'].value_counts())"
      ],
      "metadata": {
        "id": "Or6s0xpbwaLS"
      },
      "execution_count": null,
      "outputs": []
    },
    {
      "cell_type": "code",
      "source": [
        "# Apply population weight to single variable\n",
        "single_field = field_pop[0]\n",
        "weighted_col = f\"w_{single_field}\"\n",
        "merged[weighted_col] = merged[\"w_pop\"] * merged[single_field]"
      ],
      "metadata": {
        "id": "LHi3rMOMwkF5"
      },
      "execution_count": null,
      "outputs": []
    },
    {
      "cell_type": "code",
      "source": [
        "# Group by the target census tracts, summing by the wanted fields\n",
        "output_fields = [weighted_col]\n",
        "output_data = merged.groupby([\"target_ctuid\"])[output_fields].agg(\"sum\", min_count=1).reset_index()\n",
        "output_data = output_data.rename(columns={\"target_ctuid\": \"GeoUID_2021\"})\n",
        "\n",
        "# Drop w_ prefix\n",
        "output_data.columns = [c[2:] if c.startswith(\"w_\") else c for c in output_data.columns]"
      ],
      "metadata": {
        "id": "GRzdzaFMysA1"
      },
      "execution_count": null,
      "outputs": []
    },
    {
      "cell_type": "code",
      "source": [
        "print(output_data.shape)\n",
        "print(output_data.head())"
      ],
      "metadata": {
        "id": "gZcRuGET0DWO"
      },
      "execution_count": null,
      "outputs": []
    },
    {
      "cell_type": "code",
      "source": [
        "# Export file to drive\n",
        "output_data.to_csv('/content/drive/MyDrive/GentrificAItion/montreal_data_processing/data_cleaning/4_standardized_data/1996_standardized.csv', index=False)"
      ],
      "metadata": {
        "id": "baha4Vax0ZGe"
      },
      "execution_count": null,
      "outputs": []
    },
    {
      "cell_type": "markdown",
      "source": [
        "# 2001 Standardization"
      ],
      "metadata": {
        "id": "YkUuKTV4DnKF"
      }
    },
    {
      "cell_type": "markdown",
      "source": [
        "**2001→2021 Crosswalk Summary**:\n",
        "\n",
        "unique source_ctuid: 4798<br>\n",
        "unique target_ctuid: 6078<br>\n",
        "Final 2001 Standardized Table Shape: 6078 rows x 67 columns"
      ],
      "metadata": {
        "id": "A5UnN_hZqF9U"
      }
    },
    {
      "cell_type": "code",
      "source": [
        "# Read in the data\n",
        "census_2001 = pd.read_csv('/content/drive/MyDrive/GentrificAItion/montreal_data_processing/data_cleaning/2_clean_data/2001_clean.csv')\n",
        "\n",
        "# Read in crosswalk table\n",
        "cw_2001_2021 = pd.read_csv('/content/drive/MyDrive/GentrificAItion/montreal_data_processing/data_cleaning/3_census_crosswalks/ct_2001_2021.csv')"
      ],
      "metadata": {
        "id": "D9H7spb_w9Pb"
      },
      "execution_count": null,
      "outputs": []
    },
    {
      "cell_type": "markdown",
      "source": [
        "**Weighting Methodology**\n",
        "\n",
        "- **absolute values** (total counts) <br>\n",
        "Apply weights using: <br>\n",
        "• w_pop → for population-based variables (48 variables) <br>\n",
        "• w_dwe → for dwelling-based variables (14 variables)\n",
        "- **averages/medians** <br>\n",
        "Use a weighted average, where each tract’s value is weighted by its population or number of dwellings. Since these are averages rather than totals, we apply proportional weighting instead of direct multiplication.<br>\n",
        "• Median household income <br>\n",
        "• Average gross rent <br>\n",
        "• Average dwelling value\n",
        "- **special handling**: <br>\n",
        "Variable requiring manual calculation.  <br>\n",
        "• Population change %"
      ],
      "metadata": {
        "id": "aoMtzQ7ZoYVc"
      }
    },
    {
      "cell_type": "code",
      "source": [
        "# Define CTUID column name\n",
        "ctuidcol = \"GeoUID_2001\"\n",
        "\n",
        "# Categorize variables on calculation type (66 variables total excluding GeoUID and Area (sq km))\n",
        "fields_pop = [\n",
        "    \"Population_2001\",\n",
        "    \"Population 0 to 9_2001\", \"Population 10 to 19_2001\", \"Population 20 to 29_2001\",\n",
        "    \"Population 30 to 39_2001\", \"Population 40 to 49_2001\", \"Population 50 to 59_2001\",\n",
        "    \"Population 60 plus_2001\", \"Total male population_2001\", \"Total female population_2001\",\n",
        "    \"Non-movers_2001\", \"Movers_2001\", \"Non-migrants_2001\",\n",
        "    \"Migrants_2001\", \"Internal migrants_2001\", \"External migrants_2001\", \"Non-visible minority_2001\",\n",
        "    \"Visible minority_2001\", \"Non-Canadian citizens_2001\", \"Canadian citizens_2001\",\n",
        "    \"Non-immigrants_2001\", \"Immigrants_2001\", \"Non-permanent residents_2001\", \"Never married_2001\",\n",
        "    \"Divorced_2001\", \"Widowed_2001\", \"Common-law couples_2001\", \"Married couples_2001\",\n",
        "    \"Employed_2001\", \"Unemployed_2001\",\n",
        "    \"No certificate or diploma_2001\", \"High school or Secondary degree_2001\",\n",
        "    \"College or CEGEP degree_2001\", \"Trades certificate, diploma or apprenticeship_2001\",\n",
        "    \"Bachelors degree or higher_2001\",\n",
        "    \"Public transit_2001\", \"Walked_2001\", \"Bicycle_2001\", \"Transportation other methods_2001\",\n",
        "    \"Transportation vehicle driver_2001\", \"Transportation vehicle non-driver_2001\",\n",
        "    \"English only_2001\", \"French only_2001\", \"English and French_2001\",\n",
        "    \"English and non-official language(s)_2001\", \"French and non-official language(s)_2001\",\n",
        "    \"English, French, and non-official language(s)_2001\", \"Allophone_2001\"\n",
        "    ]\n",
        "\n",
        "fields_dwe = [\n",
        "    \"Households_2001\",\"Dwellings_2001\", \"Apartment with fewer than five stories_2001\",\n",
        "    \"Apartment with five or more storeys_2001\", \"Row house_2001\", \"Single-detached house_2001\",\n",
        "    \"Semi-detached house_2001\", \"Movable dwelling_2001\", \"Other single-attached house_2001\",\n",
        "    \"Major repairs_2001\",\"Regular maintenance_2001\",\n",
        "    \"Owned housing_2001\", \"Rented housing_2001\", \"Band housing_2001\"\n",
        "    ]\n",
        "\n",
        "fields_weighted_avg = [\n",
        "    \"Median household income ($)_2001\",\n",
        "    \"Average gross rent ($)_2001\",\n",
        "    \"Average value dwelling ($)_2001\"\n",
        "    ]\n",
        "\n",
        "fields_manual = [\n",
        "    \"Population change (%)_2001\"\n",
        "    ]"
      ],
      "metadata": {
        "id": "hzEB1u1ylJat"
      },
      "execution_count": null,
      "outputs": []
    },
    {
      "cell_type": "code",
      "source": [
        "# Combine all fields to convert to numeric\n",
        "all_fields = fields_pop + fields_dwe + fields_weighted_avg + fields_manual\n",
        "\n",
        "# Convert all columns except GeoUID to numeric\n",
        "for col in all_fields:\n",
        "  if col != ctuidcol:\n",
        "    census_2001[col] = pd.to_numeric(census_2001[col], errors=\"coerce\")"
      ],
      "metadata": {
        "id": "4gOi0VwG88ls"
      },
      "execution_count": null,
      "outputs": []
    },
    {
      "cell_type": "markdown",
      "source": [
        "**Placeholders** (-1) are used in the crosswalk file to indicate census tracts that do not have a valid match across years. <br>\n",
        "- For source_ctuid = -1, the weights (w_pop, w_dwe) are -1.\n",
        "- For target_ctuid = -1, the weights are 0 (1.00E-10). <br>\n",
        "\n",
        "Because these rows represent invalid or negligible mappings, we dropped all -1 placeholders before merging."
      ],
      "metadata": {
        "id": "4ZQd715DZZQX"
      }
    },
    {
      "cell_type": "code",
      "source": [
        "# Remove placeholder CTUIDs (-1.0) before merging\n",
        "cw_2001_2021 = cw_2001_2021[\n",
        "    (cw_2001_2021['source_ctuid'] != -1.0) &\n",
        "    (cw_2001_2021['target_ctuid'] != -1.0)\n",
        "]"
      ],
      "metadata": {
        "id": "ohQnCgJiWBVo"
      },
      "execution_count": null,
      "outputs": []
    },
    {
      "cell_type": "code",
      "source": [
        "# Joining the two input tables (following model code structure exactly)\n",
        "merged = cw_2001_2021.merge(\n",
        "    census_2001,\n",
        "    how=\"outer\",\n",
        "    left_on=\"source_ctuid\",\n",
        "    right_on=ctuidcol,\n",
        "    indicator=True\n",
        ")\n",
        "\n",
        "print(merged['_merge'].value_counts())"
      ],
      "metadata": {
        "id": "umQOp_IqsqR1"
      },
      "execution_count": null,
      "outputs": []
    },
    {
      "cell_type": "markdown",
      "source": [
        "\n",
        "**Definitions** <br>\n",
        "**splits**: a single source_ctuid (2001) mapping to multiple target_ctuid (2021) <br>\n",
        "**merge**: a single target_ctuid (2021) receiving multiple source_ctuid (2001) <br>\n",
        "<br>\n",
        "**Verified Findings**<br>\n",
        "2001 census tracts are a subset of the crosswalk tracts <br>\n",
        "- **matches**: 862 GEOUID_2001 matched with 985 source_ctuid tracts; 3,936 additional unique source_ctuid in the crosswalk are unmatched. <br>\n",
        "- **2001 splits**: 94 matched 2001 tracts split (69 split into 2 targets, 21 into 3, 4 into 4); 768 did not split. <br>\n",
        "- **2021 merge**: No partial merges. Every merge target is either fully covered by matched sources or fully outside the subset (0 targets mixing matched + unmatched sources)."
      ],
      "metadata": {
        "id": "QMCS_Z7GyDjP"
      }
    },
    {
      "cell_type": "markdown",
      "source": [
        "**w_pop and w_dwe**"
      ],
      "metadata": {
        "id": "IVtXyD4ZDgHw"
      }
    },
    {
      "cell_type": "code",
      "source": [
        "# Apply weights\n",
        "output_fields = []\n",
        "\n",
        "for f in fields_pop:\n",
        "    weighted_col = f\"w_{f}\"\n",
        "    merged[weighted_col] = merged[\"w_pop\"] * merged[f]\n",
        "    output_fields.append(weighted_col)\n",
        "\n",
        "for f in fields_dwe:\n",
        "    weighted_col = f\"w_{f}\"\n",
        "    merged[weighted_col] = merged[\"w_dwe\"] * merged[f]\n",
        "    output_fields.append(weighted_col)\n",
        "\n",
        "# Print numbers of rows and columns\n",
        "print(merged.shape)\n",
        "\n",
        "# Print column names\n",
        "for col in merged.columns:\n",
        "    print(col)"
      ],
      "metadata": {
        "id": "S_lVIgionWPl"
      },
      "execution_count": null,
      "outputs": []
    },
    {
      "cell_type": "code",
      "source": [
        "# Group and aggregate weighted variables\n",
        "weighted_data = merged.groupby(\"target_ctuid\")[output_fields].agg(\"sum\", min_count=1)\n",
        "\n",
        "# Drop w_ prefix\n",
        "weighted_data.columns = [c[2:] if c.startswith(\"w_\") else c for c in weighted_data.columns]\n",
        "\n",
        "# Print numbers of rows and columns\n",
        "print(weighted_data.shape)\n",
        "\n",
        "# Print column names\n",
        "for col in weighted_data.columns:\n",
        "    print(col)"
      ],
      "metadata": {
        "id": "MujtqwJY-j32"
      },
      "execution_count": null,
      "outputs": []
    },
    {
      "cell_type": "markdown",
      "source": [
        "**Next...**\n",
        "- Calculate weighted average\n",
        "- Manual calculation for special cases (obtain 1996 population)\n",
        "- Inspect values and export dataset"
      ],
      "metadata": {
        "id": "s2qKHabAodn_"
      }
    },
    {
      "cell_type": "markdown",
      "source": [
        "**weighted average**"
      ],
      "metadata": {
        "id": "U5aQ6sZgtu3t"
      }
    },
    {
      "cell_type": "code",
      "source": [
        "# Initialize an empty DataFrame for weighted averages\n",
        "weighted_avg_output = pd.DataFrame()\n",
        "\n",
        "# For median household income (w_pop)\n",
        "income_col = \"Median household income ($)_2001\"\n",
        "weighted_income = (\n",
        "    (merged[income_col] * merged[\"w_pop\"])\n",
        "    .groupby(merged[\"target_ctuid\"])\n",
        "    .agg(\"sum\", min_count=1)\n",
        "    / merged[\"w_pop\"].groupby(merged[\"target_ctuid\"]).agg(\"sum\", min_count=1)\n",
        ")\n",
        "weighted_avg_output[income_col] = weighted_income\n",
        "\n",
        "# For average gross rent (w_dwe)\n",
        "rent_col = \"Average gross rent ($)_2001\"\n",
        "weighted_rent = (\n",
        "    (merged[rent_col] * merged[\"w_dwe\"])\n",
        "    .groupby(merged[\"target_ctuid\"])\n",
        "    .agg(\"sum\", min_count=1)\n",
        "    / merged[\"w_dwe\"].groupby(merged[\"target_ctuid\"]).agg(\"sum\", min_count=1)\n",
        ")\n",
        "weighted_avg_output[rent_col] = weighted_rent\n",
        "\n",
        "# For average dwelling value (w_dwe)\n",
        "value_col = \"Average value dwelling ($)_2001\"\n",
        "weighted_value = (\n",
        "    (merged[value_col] * merged[\"w_dwe\"])\n",
        "    .groupby(merged[\"target_ctuid\"])\n",
        "    .agg(\"sum\", min_count=1)\n",
        "    / merged[\"w_dwe\"].groupby(merged[\"target_ctuid\"]).agg(\"sum\", min_count=1)\n",
        ")\n",
        "weighted_avg_output[value_col] = weighted_value\n",
        "\n",
        "# Print column names\n",
        "for col in weighted_avg_output.columns:\n",
        "    print(col)"
      ],
      "metadata": {
        "id": "5aqZP00yHBWo"
      },
      "execution_count": null,
      "outputs": []
    },
    {
      "cell_type": "markdown",
      "source": [
        "**Findings Update:** <br>\n",
        "- **2021 merges**: 15 targets (within subset) are merges\n",
        "  - full coverage: 14 merge targets have complete data for all average fields\n",
        "  - partial coverage: 1 merge target has some sources missing average fields (averages computed from available sources)<br>\n",
        "  target_ctuid: 4620314.0  \n",
        "  present: 4620314.0 <br>\n",
        "  missing: 4620315.0\n",
        "  - No-data merges: 0 merge targets lack data for all average fields\n",
        "- **avg-field (source lvl)**: 16 matched 2001 source_ctuid have no values for the average-type columns.<br>\n",
        "These sources contribute nothing to average numerators/denominators; any 2021 target built only from such sources will have those averages NaN."
      ],
      "metadata": {
        "id": "B7FOZktaPpjr"
      }
    },
    {
      "cell_type": "code",
      "source": [
        "# Combine weighted sums and weighed averages\n",
        "final_2001_to_2021 = (\n",
        "    weighted_data\n",
        "    .join(weighted_avg_output, how=\"outer\")\n",
        "    .reset_index()\n",
        "    .rename(columns={\"target_ctuid\": \"GeoUID_2021\"})\n",
        ")\n",
        "\n",
        "print(final_2001_to_2021.shape)\n",
        "print(final_2001_to_2021.head())"
      ],
      "metadata": {
        "id": "5uTbpDsa9R1J"
      },
      "execution_count": null,
      "outputs": []
    },
    {
      "cell_type": "markdown",
      "source": [
        "**population change calculation**"
      ],
      "metadata": {
        "id": "IWz31WoS4t48"
      }
    },
    {
      "cell_type": "code",
      "source": [
        "# Read in the standardized 1996 data\n",
        "df1996 = pd.read_csv('/content/drive/MyDrive/GentrificAItion/montreal_data_processing/data_cleaning/4_standardized_data/1996_standardized.csv')\n",
        "\n",
        "# Merge 1996 population into the 2001-standardized table\n",
        "final_2001_to_2021 = final_2001_to_2021.merge(\n",
        "    df1996,\n",
        "    on=\"GeoUID_2021\",\n",
        "    how=\"left\"\n",
        ")\n",
        "\n",
        "# Calculate % change (1996 → 2001)\n",
        "den = pd.to_numeric(final_2001_to_2021[\"Population_1996\"], errors=\"coerce\").replace(0, np.nan)\n",
        "num = pd.to_numeric(final_2001_to_2021[\"Population_2001\"], errors=\"coerce\")\n",
        "final_2001_to_2021[\"Population change (%)_2001\"] = ((num - den) / den * 100).round(1)\n",
        "\n",
        "# Quick check\n",
        "print(final_2001_to_2021[[\"GeoUID_2021\", \"Population_1996\", \"Population_2001\", \"Population change (%)_2001\"]].head())"
      ],
      "metadata": {
        "id": "q661kaLfZUKf"
      },
      "execution_count": null,
      "outputs": []
    },
    {
      "cell_type": "code",
      "source": [
        "# Print column names\n",
        "for col in final_2001_to_2021.columns:\n",
        "    print(col)"
      ],
      "metadata": {
        "id": "cRB0IWDWbxZg"
      },
      "execution_count": null,
      "outputs": []
    },
    {
      "cell_type": "code",
      "source": [
        "final = final_2001_to_2021.copy()\n",
        "\n",
        "# Drop useless 1996 columns\n",
        "final = final.drop(columns=[\"Population_1996_x\", \"Population_1996_y\", \"Population_1996\"], errors=\"ignore\")\n",
        "\n",
        "print(\"Finalized table:\", final.shape)\n",
        "print(final.head(3))"
      ],
      "metadata": {
        "id": "hPqmcG90zPFz"
      },
      "execution_count": null,
      "outputs": []
    },
    {
      "cell_type": "code",
      "source": [
        "# Export file\n",
        "final.to_csv('/content/drive/MyDrive/GentrificAItion/montreal_data_processing/data_cleaning/4_standardized_data/2001_standardized.csv', index=False)"
      ],
      "metadata": {
        "id": "E4XydMYwBTHC"
      },
      "execution_count": null,
      "outputs": []
    },
    {
      "cell_type": "markdown",
      "source": [
        "# 2006 Standardization"
      ],
      "metadata": {
        "id": "BB3Qsd0O5z0d"
      }
    },
    {
      "cell_type": "markdown",
      "source": [
        "**2006→2021 Crosswalk Summary:** <br>\n",
        "\n",
        "  unique source_ctuid: 5076 <br>\n",
        "  unique target_ctuid: 6170 <br>\n",
        "Final 2006 Standardized Table Shape: 6170 rows x 67 columns"
      ],
      "metadata": {
        "id": "ZH_79rWtoIid"
      }
    },
    {
      "cell_type": "code",
      "source": [
        "# Read in the data\n",
        "census_2006 = pd.read_csv('/content/drive/MyDrive/GentrificAItion/montreal_data_processing/data_cleaning/2_clean_data/2006_clean.csv')\n",
        "\n",
        "# Read in crosswalk table\n",
        "cw_2006_2021 = pd.read_csv('/content/drive/MyDrive/GentrificAItion/montreal_data_processing/data_cleaning/3_census_crosswalks/ct_2006_2021.csv')"
      ],
      "metadata": {
        "id": "9tBkXlxRcrBE"
      },
      "execution_count": null,
      "outputs": []
    },
    {
      "cell_type": "code",
      "source": [
        "# Define CTUID column name\n",
        "ctuidcol = \"GeoUID_2006\"\n",
        "\n",
        "# Categorize variables on calculation type (66 variables total excluding GeoUID and Area (sq km))\n",
        "fields_pop = [\n",
        "    \"Population_2006\",\n",
        "    \"Population 0 to 9_2006\", \"Population 10 to 19_2006\", \"Population 20 to 29_2006\",\n",
        "    \"Population 30 to 39_2006\", \"Population 40 to 49_2006\", \"Population 50 to 59_2006\",\n",
        "    \"Population 60 plus_2006\", \"Total male population_2006\", \"Total female population_2006\",\n",
        "    \"Non-movers_2006\", \"Movers_2006\", \"Non-migrants_2006\",\n",
        "    \"Migrants_2006\", \"Internal migrants_2006\", \"External migrants_2006\", \"Non-visible minority_2006\",\n",
        "    \"Visible minority_2006\", \"Non-Canadian citizens_2006\", \"Canadian citizens_2006\",\n",
        "    \"Non-immigrants_2006\", \"Immigrants_2006\", \"Non-permanent residents_2006\", \"Never married_2006\",\n",
        "    \"Divorced_2006\", \"Widowed_2006\", \"Common-law couples_2006\", \"Married couples_2006\",\n",
        "    \"Employed_2006\", \"Unemployed_2006\",\n",
        "    \"No certificate or diploma_2006\", \"High school or Secondary degree_2006\",\n",
        "    \"College or CEGEP degree_2006\", \"Trades certificate, diploma or apprenticeship_2006\",\n",
        "    \"Bachelors degree or higher_2006\",\n",
        "    \"Public transit_2006\", \"Walked_2006\", \"Bicycle_2006\", \"Transportation other methods_2006\",\n",
        "    \"Transportation vehicle driver_2006\", \"Transportation vehicle non-driver_2006\",\n",
        "    \"English only_2006\", \"French only_2006\", \"English and French_2006\",\n",
        "    \"English and non-official language(s)_2006\", \"French and non-official language(s)_2006\",\n",
        "    \"English, French, and non-official language(s)_2006\", \"Allophone_2006\"\n",
        "    ]\n",
        "\n",
        "fields_dwe = [\n",
        "    \"Households_2006\",\"Dwellings_2006\", \"Apartment with fewer than five stories_2006\",\n",
        "    \"Apartment with five or more storeys_2006\", \"Row house_2006\", \"Single-detached house_2006\",\n",
        "    \"Semi-detached house_2006\", \"Movable dwelling_2006\", \"Other single-attached house_2006\",\n",
        "    \"Major repairs_2006\",\"Regular maintenance_2006\",\n",
        "    \"Owned housing_2006\", \"Rented housing_2006\", \"Band housing_2006\"\n",
        "    ]\n",
        "\n",
        "fields_weighted_avg = [\n",
        "    \"Median household income ($)_2006\",\n",
        "    \"Average gross rent ($)_2006\",\n",
        "    \"Average value dwelling ($)_2006\"\n",
        "    ]\n",
        "\n",
        "fields_manual = [\n",
        "    \"Population change (%)_2006\"\n",
        "    ]"
      ],
      "metadata": {
        "id": "Xwnn2Yy3RBMQ"
      },
      "execution_count": null,
      "outputs": []
    },
    {
      "cell_type": "code",
      "source": [
        "# Combine all fields to convert to numeric\n",
        "all_fields = fields_pop + fields_dwe + fields_weighted_avg + fields_manual\n",
        "\n",
        "# Convert all columns except GeoUID to numeric\n",
        "for col in all_fields:\n",
        "  if col != ctuidcol:\n",
        "    census_2006[col] = pd.to_numeric(census_2006[col], errors=\"coerce\")"
      ],
      "metadata": {
        "id": "n9lGuxpSRpDv"
      },
      "execution_count": null,
      "outputs": []
    },
    {
      "cell_type": "code",
      "source": [
        "# Remove placeholder CTUIDs (-1.0) before merging\n",
        "cw_2006_2021 = cw_2006_2021[\n",
        "    (cw_2006_2021['source_ctuid'] != -1.0) &\n",
        "    (cw_2006_2021['target_ctuid'] != -1.0)\n",
        "]"
      ],
      "metadata": {
        "id": "oxPjx7wr0DOD"
      },
      "execution_count": null,
      "outputs": []
    },
    {
      "cell_type": "code",
      "source": [
        "# Joining the two input tables (following model code structure exactly)\n",
        "merged = cw_2006_2021.merge(\n",
        "    census_2006,\n",
        "    how=\"outer\",\n",
        "    left_on=\"source_ctuid\",\n",
        "    right_on=ctuidcol,\n",
        "    indicator=True\n",
        ")\n",
        "\n",
        "print(merged['_merge'].value_counts())"
      ],
      "metadata": {
        "id": "k2dqQlcw0SPb"
      },
      "execution_count": null,
      "outputs": []
    },
    {
      "cell_type": "markdown",
      "source": [
        "**w_pop and w_dwe**"
      ],
      "metadata": {
        "id": "JkQpC9o81jNv"
      }
    },
    {
      "cell_type": "code",
      "source": [
        "# Apply weights\n",
        "output_fields = []\n",
        "\n",
        "for f in fields_pop:\n",
        "    weighted_col = f\"w_{f}\"\n",
        "    merged[weighted_col] = merged[\"w_pop\"] * merged[f]\n",
        "    output_fields.append(weighted_col)\n",
        "\n",
        "for f in fields_dwe:\n",
        "    weighted_col = f\"w_{f}\"\n",
        "    merged[weighted_col] = merged[\"w_dwe\"] * merged[f]\n",
        "    output_fields.append(weighted_col)\n",
        "\n",
        "# Print numbers of rows and columns\n",
        "print(merged.shape)\n",
        "\n",
        "# Print column names\n",
        "for col in merged.columns:\n",
        "    print(col)"
      ],
      "metadata": {
        "id": "ZsSL0h_nep6K"
      },
      "execution_count": null,
      "outputs": []
    },
    {
      "cell_type": "code",
      "source": [
        "# Group and aggregate weighted variables\n",
        "weighted_data = merged.groupby(\"target_ctuid\")[output_fields].agg(\"sum\", min_count=1)\n",
        "\n",
        "# Drop w_ prefix\n",
        "weighted_data.columns = [c[2:] if c.startswith(\"w_\") else c for c in weighted_data.columns]\n",
        "\n",
        "# Print numbers of rows and columns\n",
        "print(weighted_data.shape)\n",
        "\n",
        "# Print column names\n",
        "for col in weighted_data.columns:\n",
        "    print(col)"
      ],
      "metadata": {
        "id": "oo9pIQpDhjSf"
      },
      "execution_count": null,
      "outputs": []
    },
    {
      "cell_type": "markdown",
      "source": [
        "**weighted average**"
      ],
      "metadata": {
        "id": "7pJdFNo1hnk6"
      }
    },
    {
      "cell_type": "code",
      "source": [
        "# Initialize an empty DataFrame for weighted averages\n",
        "weighted_avg_output = pd.DataFrame()\n",
        "\n",
        "# For median household income (w_pop)\n",
        "income_col = \"Median household income ($)_2006\"\n",
        "weighted_income = (\n",
        "    (merged[income_col] * merged[\"w_pop\"])\n",
        "    .groupby(merged[\"target_ctuid\"])\n",
        "    .agg(\"sum\", min_count=1)\n",
        "    / merged[\"w_pop\"].groupby(merged[\"target_ctuid\"]).agg(\"sum\", min_count=1)\n",
        ")\n",
        "weighted_avg_output[income_col] = weighted_income\n",
        "\n",
        "# For average gross rent (w_dwe)\n",
        "rent_col = \"Average gross rent ($)_2006\"\n",
        "weighted_rent = (\n",
        "    (merged[rent_col] * merged[\"w_dwe\"])\n",
        "    .groupby(merged[\"target_ctuid\"])\n",
        "    .agg(\"sum\", min_count=1)\n",
        "    / merged[\"w_dwe\"].groupby(merged[\"target_ctuid\"]).agg(\"sum\", min_count=1)\n",
        ")\n",
        "weighted_avg_output[rent_col] = weighted_rent\n",
        "\n",
        "# For average dwelling value (w_dwe)\n",
        "value_col = \"Average value dwelling ($)_2006\"\n",
        "weighted_value = (\n",
        "    (merged[value_col] * merged[\"w_dwe\"])\n",
        "    .groupby(merged[\"target_ctuid\"])\n",
        "    .agg(\"sum\", min_count=1)\n",
        "    / merged[\"w_dwe\"].groupby(merged[\"target_ctuid\"]).agg(\"sum\", min_count=1)\n",
        ")\n",
        "weighted_avg_output[value_col] = weighted_value\n",
        "\n",
        "# Print column names\n",
        "for col in weighted_avg_output.columns:\n",
        "    print(col)"
      ],
      "metadata": {
        "id": "WmwTbJiQhsJH"
      },
      "execution_count": null,
      "outputs": []
    },
    {
      "cell_type": "code",
      "source": [
        "# Combine weighted sums and weighed averages\n",
        "final_2006_to_2021 = (\n",
        "    weighted_data\n",
        "    .join(weighted_avg_output, how=\"outer\")\n",
        "    .reset_index()\n",
        "    .rename(columns={\"target_ctuid\": \"GeoUID_2021\"})\n",
        ")\n",
        "\n",
        "print(final_2006_to_2021.shape)\n",
        "print(final_2006_to_2021.head())"
      ],
      "metadata": {
        "id": "p4xBfjYeiVNA"
      },
      "execution_count": null,
      "outputs": []
    },
    {
      "cell_type": "markdown",
      "source": [
        "**population change calculation**"
      ],
      "metadata": {
        "id": "6qWJ4nMfilZ3"
      }
    },
    {
      "cell_type": "code",
      "source": [
        "# Read in the standardized 2001 data\n",
        "df2001 = pd.read_csv('/content/drive/MyDrive/GentrificAItion/montreal_data_processing/data_cleaning/4_standardized_data/2001_standardized.csv')\n",
        "\n",
        "# Merge 2001 population into the 2006-standardized table\n",
        "final_2006_to_2021 = final_2006_to_2021.merge(\n",
        "    df2001[['GeoUID_2021', 'Population_2001']],\n",
        "    on=\"GeoUID_2021\",\n",
        "    how=\"left\"\n",
        ")\n",
        "\n",
        "# Calculate % change (2001 → 2006)\n",
        "den = pd.to_numeric(final_2006_to_2021[\"Population_2001\"], errors=\"coerce\").replace(0, np.nan)\n",
        "num = pd.to_numeric(final_2006_to_2021[\"Population_2006\"], errors=\"coerce\")\n",
        "final_2006_to_2021[\"Population change (%)_2006\"] = ((num - den) / den * 100).round(1)\n",
        "\n",
        "# Quick check\n",
        "print(final_2006_to_2021[[\"GeoUID_2021\", \"Population_2001\", \"Population_2006\", \"Population change (%)_2006\"]].head())"
      ],
      "metadata": {
        "id": "OwOG7XvrjDvC"
      },
      "execution_count": null,
      "outputs": []
    },
    {
      "cell_type": "code",
      "source": [
        "final = final_2006_to_2021.copy()\n",
        "\n",
        "# Drop useless 2001 columns\n",
        "final = final.drop(columns=[\"Population_2001\"], errors=\"ignore\")\n",
        "\n",
        "print(\"Finalized table:\", final.shape)\n",
        "\n",
        "for col in final.columns:\n",
        "    print(col)"
      ],
      "metadata": {
        "id": "jgGHSeaYlwQL"
      },
      "execution_count": null,
      "outputs": []
    },
    {
      "cell_type": "code",
      "source": [
        "# Export file\n",
        "final.to_csv('/content/drive/MyDrive/GentrificAItion/montreal_data_processing/data_cleaning/4_standardized_data/2006_standardized.csv', index=False)"
      ],
      "metadata": {
        "id": "TRw0bwBwm8iD"
      },
      "execution_count": null,
      "outputs": []
    },
    {
      "cell_type": "markdown",
      "source": [
        "# 2011 Standardization"
      ],
      "metadata": {
        "id": "DYwylJXc56An"
      }
    },
    {
      "cell_type": "code",
      "source": [
        "# Read in the data\n",
        "census_2011 = pd.read_csv('/content/drive/MyDrive/Ai4Good_Project/GentrificAItion/montreal_data_processing/data_cleaning/2_clean_data/2011_clean.csv')\n",
        "\n",
        "# Read in crosswalk table\n",
        "cw_2011_2021 = pd.read_csv('/content/drive/MyDrive/Ai4Good_Project/GentrificAItion/montreal_data_processing/data_cleaning/3_census_crosswalks/ct_2011_2021.csv')"
      ],
      "metadata": {
        "id": "xPVwakmCpXn9"
      },
      "execution_count": 49,
      "outputs": []
    },
    {
      "cell_type": "code",
      "source": [
        "# Define CTUID column name\n",
        "ctuidcol = \"GeoUID_2011\"\n",
        "\n",
        "# Categorize variables on calculation type (66 variables total excluding GeoUID and Area (sq km))\n",
        "fields_pop = [\n",
        "    \"Population_2011\",\n",
        "    \"Population 0 to 9_2011\", \"Population 10 to 19_2011\", \"Population 20 to 29_2011\",\n",
        "    \"Population 30 to 39_2011\", \"Population 40 to 49_2011\", \"Population 50 to 59_2011\",\n",
        "    \"Population 60 plus_2011\", \"Total male population_2011\", \"Total female population_2011\",\n",
        "    \"Non-movers_2011\", \"Movers_2011\", \"Non-migrants_2011\",\n",
        "    \"Migrants_2011\", \"Internal migrants_2011\", \"External migrants_2011\", \"Non-visible minority_2011\",\n",
        "    \"Visible minority_2011\", \"Non-Canadian citizens_2011\", \"Canadian citizens_2011\",\n",
        "    \"Non-immigrants_2011\", \"Immigrants_2011\", \"Non-permanent residents_2011\", \"Never married_2011\",\n",
        "    \"Divorced_2011\", \"Widowed_2011\", \"Common-law couples_2011\", \"Married couples_2011\",\n",
        "    \"Employed_2011\", \"Unemployed_2011\",\n",
        "    \"No certificate or diploma_2011\", \"High school or Secondary degree_2011\",\n",
        "    \"College or CEGEP degree_2011\", \"Trades certificate, diploma or apprenticeship_2011\",\n",
        "    \"Bachelors degree or higher_2011\",\n",
        "    \"Public transit_2011\", \"Walked_2011\", \"Bicycle_2011\", \"Transportation other methods_2011\",\n",
        "    \"Transportation vehicle driver_2011\", \"Transportation vehicle non-driver_2011\",\n",
        "    \"English only_2011\", \"French only_2011\", \"English and French_2011\",\n",
        "    \"English and non-official language(s)_2011\", \"French and non-official language(s)_2011\",\n",
        "    \"English, French, and non-official language(s)_2011\", \"Allophone_2011\"\n",
        "    ]\n",
        "\n",
        "fields_dwe = [\n",
        "    \"Households_2011\",\"Dwellings_2011\", \"Apartment with fewer than five stories_2011\",\n",
        "    \"Apartment with five or more storeys_2011\", \"Row house_2011\", \"Single-detached house_2011\",\n",
        "    \"Semi-detached house_2011\", \"Movable dwelling_2011\", \"Other single-attached house_2011\",\n",
        "    \"Major repairs_2011\",\"Regular maintenance_2011\",\n",
        "    \"Owned housing_2011\", \"Rented housing_2011\", \"Band housing_2011\"\n",
        "    ]\n",
        "\n",
        "fields_weighted_avg = [\n",
        "    \"Median household income ($)_2011\",\n",
        "    \"Average gross rent ($)_2011\",\n",
        "    \"Average value dwelling ($)_2011\"\n",
        "    ]\n",
        "\n",
        "fields_manual = [\n",
        "    \"Population change (%)_2011\"\n",
        "    ]\n"
      ],
      "metadata": {
        "id": "UnYuZs7QgWYa"
      },
      "execution_count": 50,
      "outputs": []
    },
    {
      "cell_type": "code",
      "source": [
        "# Combine all fields to convert to numeric\n",
        "all_fields = fields_pop + fields_dwe + fields_weighted_avg + fields_manual\n",
        "\n",
        "# Convert all columns except GeoUID to numeric\n",
        "for col in all_fields:\n",
        "  if col != ctuidcol:\n",
        "    census_2011[col] = pd.to_numeric(census_2011[col], errors=\"coerce\")"
      ],
      "metadata": {
        "id": "NaWqL6Fr86Ou"
      },
      "execution_count": 51,
      "outputs": []
    },
    {
      "cell_type": "code",
      "source": [
        "# Remove placeholder CTUIDs (-1.0) before merging\n",
        "cw_2011_2021 = cw_2011_2021[\n",
        "    (cw_2011_2021['source_ctuid'] != -1.0) &\n",
        "    (cw_2011_2021['target_ctuid'] != -1.0)\n",
        "]"
      ],
      "metadata": {
        "id": "iHfA8wUN88xh"
      },
      "execution_count": 52,
      "outputs": []
    },
    {
      "cell_type": "code",
      "source": [
        "# Joining the two input tables (following model code structure exactly)\n",
        "merged = cw_2011_2021.merge(\n",
        "    census_2011,\n",
        "    how=\"outer\",\n",
        "    left_on=\"source_ctuid\",\n",
        "    right_on=ctuidcol,\n",
        "    indicator=True\n",
        ")\n",
        "\n",
        "print(merged['_merge'].value_counts())"
      ],
      "metadata": {
        "colab": {
          "base_uri": "https://localhost:8080/"
        },
        "id": "LCbxBwLb9haI",
        "outputId": "f5c332dd-0d80-4b63-8e71-00e00b83f7b1"
      },
      "execution_count": 53,
      "outputs": [
        {
          "output_type": "stream",
          "name": "stdout",
          "text": [
            "_merge\n",
            "left_only     5527\n",
            "both           978\n",
            "right_only       0\n",
            "Name: count, dtype: int64\n"
          ]
        }
      ]
    },
    {
      "cell_type": "markdown",
      "source": [
        "**w_pop and w_dwe**"
      ],
      "metadata": {
        "id": "VAmm7Uqq-oiD"
      }
    },
    {
      "cell_type": "code",
      "source": [
        "# Apply weights\n",
        "output_fields = []\n",
        "\n",
        "for f in fields_pop:\n",
        "    weighted_col = f\"w_{f}\"\n",
        "    merged[weighted_col] = merged[\"w_pop\"] * merged[f]\n",
        "    output_fields.append(weighted_col)\n",
        "\n",
        "for f in fields_dwe:\n",
        "    weighted_col = f\"w_{f}\"\n",
        "    merged[weighted_col] = merged[\"w_dwe\"] * merged[f]\n",
        "    output_fields.append(weighted_col)\n",
        "\n",
        "# Print numbers of rows and columns\n",
        "print(merged.shape)\n",
        "\n",
        "# Print column names\n",
        "for col in merged.columns:\n",
        "    print(col)"
      ],
      "metadata": {
        "colab": {
          "base_uri": "https://localhost:8080/"
        },
        "id": "Hwmuf-jA-wrm",
        "outputId": "b271b2a9-fefc-43bf-a49a-0cb96b97d759"
      },
      "execution_count": 54,
      "outputs": [
        {
          "output_type": "stream",
          "name": "stdout",
          "text": [
            "(6505, 135)\n",
            "source_ctuid\n",
            "target_ctuid\n",
            "w_pop\n",
            "w_dwe\n",
            "GeoUID_2011\n",
            "Area (sq km)_2011\n",
            "Population_2011\n",
            "Dwellings_2011\n",
            "Households_2011\n",
            "Total male population_2011\n",
            "Total female population_2011\n",
            "Never married_2011\n",
            "Divorced_2011\n",
            "Widowed_2011\n",
            "Common-law couples_2011\n",
            "Married couples_2011\n",
            "Apartment with fewer than five stories_2011\n",
            "Apartment with five or more storeys_2011\n",
            "Row house_2011\n",
            "Semi-detached house_2011\n",
            "Movable dwelling_2011\n",
            "Other single-attached house_2011\n",
            "English only_2011\n",
            "French only_2011\n",
            "Allophone_2011\n",
            "Single-detached house_2011\n",
            "English and French_2011\n",
            "English and non-official language(s)_2011\n",
            "French and non-official language(s)_2011\n",
            "English, French, and non-official language(s)_2011\n",
            "Non-movers_2011\n",
            "Movers_2011\n",
            "Non-migrants_2011\n",
            "Migrants_2011\n",
            "Internal migrants_2011\n",
            "External migrants_2011\n",
            "Visible minority_2011\n",
            "Non-visible minority_2011\n",
            "Non-Canadian citizens_2011\n",
            "Canadian citizens_2011\n",
            "Non-immigrants_2011\n",
            "Immigrants_2011\n",
            "Non-permanent residents_2011\n",
            "Median household income ($)_2011\n",
            "Employed_2011\n",
            "Unemployed_2011\n",
            "No certificate or diploma_2011\n",
            "High school or Secondary degree_2011\n",
            "College or CEGEP degree_2011\n",
            "Trades certificate, diploma or apprenticeship_2011\n",
            "Bachelors degree or higher_2011\n",
            "Average gross rent ($)_2011\n",
            "Average value dwelling ($)_2011\n",
            "Owned housing_2011\n",
            "Rented housing_2011\n",
            "Band housing_2011\n",
            "Major repairs_2011\n",
            "Regular maintenance_2011\n",
            "Walked_2011\n",
            "Bicycle_2011\n",
            "Transportation other methods_2011\n",
            "Public transit_2011\n",
            "Transportation vehicle driver_2011\n",
            "Transportation vehicle non-driver_2011\n",
            "Population 0 to 9_2011\n",
            "Population 10 to 19_2011\n",
            "Population 20 to 29_2011\n",
            "Population 30 to 39_2011\n",
            "Population 40 to 49_2011\n",
            "Population 50 to 59_2011\n",
            "Population 60 plus_2011\n",
            "Population change (%)_2011\n",
            "_merge\n",
            "w_Population_2011\n",
            "w_Population 0 to 9_2011\n",
            "w_Population 10 to 19_2011\n",
            "w_Population 20 to 29_2011\n",
            "w_Population 30 to 39_2011\n",
            "w_Population 40 to 49_2011\n",
            "w_Population 50 to 59_2011\n",
            "w_Population 60 plus_2011\n",
            "w_Total male population_2011\n",
            "w_Total female population_2011\n",
            "w_Non-movers_2011\n",
            "w_Movers_2011\n",
            "w_Non-migrants_2011\n",
            "w_Migrants_2011\n",
            "w_Internal migrants_2011\n",
            "w_External migrants_2011\n",
            "w_Non-visible minority_2011\n",
            "w_Visible minority_2011\n",
            "w_Non-Canadian citizens_2011\n",
            "w_Canadian citizens_2011\n",
            "w_Non-immigrants_2011\n",
            "w_Immigrants_2011\n",
            "w_Non-permanent residents_2011\n",
            "w_Never married_2011\n",
            "w_Divorced_2011\n",
            "w_Widowed_2011\n",
            "w_Common-law couples_2011\n",
            "w_Married couples_2011\n",
            "w_Employed_2011\n",
            "w_Unemployed_2011\n",
            "w_No certificate or diploma_2011\n",
            "w_High school or Secondary degree_2011\n",
            "w_College or CEGEP degree_2011\n",
            "w_Trades certificate, diploma or apprenticeship_2011\n",
            "w_Bachelors degree or higher_2011\n",
            "w_Public transit_2011\n",
            "w_Walked_2011\n",
            "w_Bicycle_2011\n",
            "w_Transportation other methods_2011\n",
            "w_Transportation vehicle driver_2011\n",
            "w_Transportation vehicle non-driver_2011\n",
            "w_English only_2011\n",
            "w_French only_2011\n",
            "w_English and French_2011\n",
            "w_English and non-official language(s)_2011\n",
            "w_French and non-official language(s)_2011\n",
            "w_English, French, and non-official language(s)_2011\n",
            "w_Allophone_2011\n",
            "w_Households_2011\n",
            "w_Dwellings_2011\n",
            "w_Apartment with fewer than five stories_2011\n",
            "w_Apartment with five or more storeys_2011\n",
            "w_Row house_2011\n",
            "w_Single-detached house_2011\n",
            "w_Semi-detached house_2011\n",
            "w_Movable dwelling_2011\n",
            "w_Other single-attached house_2011\n",
            "w_Major repairs_2011\n",
            "w_Regular maintenance_2011\n",
            "w_Owned housing_2011\n",
            "w_Rented housing_2011\n",
            "w_Band housing_2011\n"
          ]
        }
      ]
    },
    {
      "cell_type": "code",
      "source": [
        "# Group and aggregate weighted variables\n",
        "weighted_data = merged.groupby(\"target_ctuid\")[output_fields].agg(\"sum\", min_count=1)\n",
        "\n",
        "# Drop w_ prefix\n",
        "weighted_data.columns = [c[2:] if c.startswith(\"w_\") else c for c in weighted_data.columns]\n",
        "\n",
        "# Print numbers of rows and columns\n",
        "print(weighted_data.shape)\n",
        "\n",
        "# Print column names\n",
        "for col in weighted_data.columns:\n",
        "    print(col)"
      ],
      "metadata": {
        "colab": {
          "base_uri": "https://localhost:8080/"
        },
        "id": "VK4MfIxW_KOs",
        "outputId": "93f0eb44-88d9-4e72-9c0c-c254d6a04040"
      },
      "execution_count": 55,
      "outputs": [
        {
          "output_type": "stream",
          "name": "stdout",
          "text": [
            "(6178, 62)\n",
            "Population_2011\n",
            "Population 0 to 9_2011\n",
            "Population 10 to 19_2011\n",
            "Population 20 to 29_2011\n",
            "Population 30 to 39_2011\n",
            "Population 40 to 49_2011\n",
            "Population 50 to 59_2011\n",
            "Population 60 plus_2011\n",
            "Total male population_2011\n",
            "Total female population_2011\n",
            "Non-movers_2011\n",
            "Movers_2011\n",
            "Non-migrants_2011\n",
            "Migrants_2011\n",
            "Internal migrants_2011\n",
            "External migrants_2011\n",
            "Non-visible minority_2011\n",
            "Visible minority_2011\n",
            "Non-Canadian citizens_2011\n",
            "Canadian citizens_2011\n",
            "Non-immigrants_2011\n",
            "Immigrants_2011\n",
            "Non-permanent residents_2011\n",
            "Never married_2011\n",
            "Divorced_2011\n",
            "Widowed_2011\n",
            "Common-law couples_2011\n",
            "Married couples_2011\n",
            "Employed_2011\n",
            "Unemployed_2011\n",
            "No certificate or diploma_2011\n",
            "High school or Secondary degree_2011\n",
            "College or CEGEP degree_2011\n",
            "Trades certificate, diploma or apprenticeship_2011\n",
            "Bachelors degree or higher_2011\n",
            "Public transit_2011\n",
            "Walked_2011\n",
            "Bicycle_2011\n",
            "Transportation other methods_2011\n",
            "Transportation vehicle driver_2011\n",
            "Transportation vehicle non-driver_2011\n",
            "English only_2011\n",
            "French only_2011\n",
            "English and French_2011\n",
            "English and non-official language(s)_2011\n",
            "French and non-official language(s)_2011\n",
            "English, French, and non-official language(s)_2011\n",
            "Allophone_2011\n",
            "Households_2011\n",
            "Dwellings_2011\n",
            "Apartment with fewer than five stories_2011\n",
            "Apartment with five or more storeys_2011\n",
            "Row house_2011\n",
            "Single-detached house_2011\n",
            "Semi-detached house_2011\n",
            "Movable dwelling_2011\n",
            "Other single-attached house_2011\n",
            "Major repairs_2011\n",
            "Regular maintenance_2011\n",
            "Owned housing_2011\n",
            "Rented housing_2011\n",
            "Band housing_2011\n"
          ]
        }
      ]
    },
    {
      "cell_type": "markdown",
      "source": [
        "**weighted average**"
      ],
      "metadata": {
        "id": "FRBMxKZj_Ujg"
      }
    },
    {
      "cell_type": "code",
      "source": [
        "# Initialize an empty DataFrame for weighted averages\n",
        "weighted_avg_output = pd.DataFrame()\n",
        "\n",
        "# For median household income (w_pop)\n",
        "income_col = \"Median household income ($)_2011\"\n",
        "weighted_income = (\n",
        "    (merged[income_col] * merged[\"w_pop\"])\n",
        "    .groupby(merged[\"target_ctuid\"])\n",
        "    .agg(\"sum\", min_count=1)\n",
        "    / merged[\"w_pop\"].groupby(merged[\"target_ctuid\"]).agg(\"sum\", min_count=1)\n",
        ")\n",
        "weighted_avg_output[income_col] = weighted_income\n",
        "\n",
        "# For average gross rent (w_dwe)\n",
        "rent_col = \"Average gross rent ($)_2011\"\n",
        "weighted_rent = (\n",
        "    (merged[rent_col] * merged[\"w_dwe\"])\n",
        "    .groupby(merged[\"target_ctuid\"])\n",
        "    .agg(\"sum\", min_count=1)\n",
        "    / merged[\"w_dwe\"].groupby(merged[\"target_ctuid\"]).agg(\"sum\", min_count=1)\n",
        ")\n",
        "weighted_avg_output[rent_col] = weighted_rent\n",
        "\n",
        "# For average dwelling value (w_dwe)\n",
        "value_col = \"Average value dwelling ($)_2011\"\n",
        "weighted_value = (\n",
        "    (merged[value_col] * merged[\"w_dwe\"])\n",
        "    .groupby(merged[\"target_ctuid\"])\n",
        "    .agg(\"sum\", min_count=1)\n",
        "    / merged[\"w_dwe\"].groupby(merged[\"target_ctuid\"]).agg(\"sum\", min_count=1)\n",
        ")\n",
        "weighted_avg_output[value_col] = weighted_value\n",
        "\n",
        "# Print column names\n",
        "for col in weighted_avg_output.columns:\n",
        "    print(col)"
      ],
      "metadata": {
        "colab": {
          "base_uri": "https://localhost:8080/"
        },
        "id": "Z3pq44sE_Ujh",
        "outputId": "3d5a216e-9d70-4136-f98b-060fcadedc52"
      },
      "execution_count": 56,
      "outputs": [
        {
          "output_type": "stream",
          "name": "stdout",
          "text": [
            "Median household income ($)_2011\n",
            "Average gross rent ($)_2011\n",
            "Average value dwelling ($)_2011\n"
          ]
        }
      ]
    },
    {
      "cell_type": "code",
      "source": [
        "# Combine weighted sums and weighed averages\n",
        "final_2011_to_2021 = (\n",
        "    weighted_data\n",
        "    .join(weighted_avg_output, how=\"outer\")\n",
        "    .reset_index()\n",
        "    .rename(columns={\"target_ctuid\": \"GeoUID_2021\"})\n",
        ")\n",
        "\n",
        "print(final_2011_to_2021.shape)\n",
        "print(final_2011_to_2021.head())"
      ],
      "metadata": {
        "colab": {
          "base_uri": "https://localhost:8080/"
        },
        "id": "5kVyAJMq_Ujh",
        "outputId": "2a6fe874-2f85-4152-a5ca-ca589f1e4527"
      },
      "execution_count": 57,
      "outputs": [
        {
          "output_type": "stream",
          "name": "stdout",
          "text": [
            "(6178, 66)\n",
            "   GeoUID_2021  Population_2011  Population 0 to 9_2011  \\\n",
            "0     10001.00              NaN                     NaN   \n",
            "1     10002.00              NaN                     NaN   \n",
            "2     10003.01              NaN                     NaN   \n",
            "3     10003.02              NaN                     NaN   \n",
            "4     10004.01              NaN                     NaN   \n",
            "\n",
            "   Population 10 to 19_2011  Population 20 to 29_2011  \\\n",
            "0                       NaN                       NaN   \n",
            "1                       NaN                       NaN   \n",
            "2                       NaN                       NaN   \n",
            "3                       NaN                       NaN   \n",
            "4                       NaN                       NaN   \n",
            "\n",
            "   Population 30 to 39_2011  Population 40 to 49_2011  \\\n",
            "0                       NaN                       NaN   \n",
            "1                       NaN                       NaN   \n",
            "2                       NaN                       NaN   \n",
            "3                       NaN                       NaN   \n",
            "4                       NaN                       NaN   \n",
            "\n",
            "   Population 50 to 59_2011  Population 60 plus_2011  \\\n",
            "0                       NaN                      NaN   \n",
            "1                       NaN                      NaN   \n",
            "2                       NaN                      NaN   \n",
            "3                       NaN                      NaN   \n",
            "4                       NaN                      NaN   \n",
            "\n",
            "   Total male population_2011  ...  Movable dwelling_2011  \\\n",
            "0                         NaN  ...                    NaN   \n",
            "1                         NaN  ...                    NaN   \n",
            "2                         NaN  ...                    NaN   \n",
            "3                         NaN  ...                    NaN   \n",
            "4                         NaN  ...                    NaN   \n",
            "\n",
            "   Other single-attached house_2011  Major repairs_2011  \\\n",
            "0                               NaN                 NaN   \n",
            "1                               NaN                 NaN   \n",
            "2                               NaN                 NaN   \n",
            "3                               NaN                 NaN   \n",
            "4                               NaN                 NaN   \n",
            "\n",
            "   Regular maintenance_2011  Owned housing_2011  Rented housing_2011  \\\n",
            "0                       NaN                 NaN                  NaN   \n",
            "1                       NaN                 NaN                  NaN   \n",
            "2                       NaN                 NaN                  NaN   \n",
            "3                       NaN                 NaN                  NaN   \n",
            "4                       NaN                 NaN                  NaN   \n",
            "\n",
            "   Band housing_2011  Median household income ($)_2011  \\\n",
            "0                NaN                               NaN   \n",
            "1                NaN                               NaN   \n",
            "2                NaN                               NaN   \n",
            "3                NaN                               NaN   \n",
            "4                NaN                               NaN   \n",
            "\n",
            "   Average gross rent ($)_2011  Average value dwelling ($)_2011  \n",
            "0                          NaN                              NaN  \n",
            "1                          NaN                              NaN  \n",
            "2                          NaN                              NaN  \n",
            "3                          NaN                              NaN  \n",
            "4                          NaN                              NaN  \n",
            "\n",
            "[5 rows x 66 columns]\n"
          ]
        }
      ]
    },
    {
      "cell_type": "code",
      "source": [
        "# Export file\n",
        "final_2011_to_2021.to_csv('/content/drive/MyDrive/Ai4Good_Project/GentrificAItion/montreal_data_processing/data_cleaning/4_standardized_data/2011_standardized.csv', index=False)"
      ],
      "metadata": {
        "id": "vUq-P7-5_Uji"
      },
      "execution_count": 58,
      "outputs": []
    },
    {
      "cell_type": "markdown",
      "source": [
        "# 2016 Standarization"
      ],
      "metadata": {
        "id": "WqnTudTs5-SQ"
      }
    },
    {
      "cell_type": "code",
      "source": [
        "# Read in the data\n",
        "census_2016 = pd.read_csv('/content/drive/MyDrive/Ai4Good_Project/GentrificAItion/montreal_data_processing/data_cleaning/2_clean_data/2016_clean.csv')\n",
        "\n",
        "# Read in crosswalk table\n",
        "cw_2016_2021 = pd.read_csv('/content/drive/MyDrive/Ai4Good_Project/GentrificAItion/montreal_data_processing/data_cleaning/3_census_crosswalks/ct_2016_2021.csv')"
      ],
      "metadata": {
        "id": "il4K-s3bpX8o"
      },
      "execution_count": 37,
      "outputs": []
    },
    {
      "cell_type": "code",
      "source": [
        "# Define CTUID column name\n",
        "ctuidcol = \"GeoUID_2016\"\n",
        "\n",
        "# Categorize variables on calculation type (66 variables total excluding GeoUID and Area (sq km))\n",
        "fields_pop = [\n",
        "    \"Population_2016\",\n",
        "    \"Population 0 to 9_2016\", \"Population 10 to 19_2016\", \"Population 20 to 29_2016\",\n",
        "    \"Population 30 to 39_2016\", \"Population 40 to 49_2016\", \"Population 50 to 59_2016\",\n",
        "    \"Population 60 plus_2016\", \"Total male population_2016\", \"Total female population_2016\",\n",
        "    \"Non-movers_2016\", \"Movers_2016\", \"Non-migrants_2016\",\n",
        "    \"Migrants_2016\", \"Internal migrants_2016\", \"External migrants_2016\", \"Non-visible minority_2016\",\n",
        "    \"Visible minority_2016\", \"Non-Canadian citizens_2016\", \"Canadian citizens_2016\",\n",
        "    \"Non-immigrants_2016\", \"Immigrants_2016\", \"Non-permanent residents_2016\", \"Never married_2016\",\n",
        "    \"Divorced_2016\", \"Widowed_2016\", \"Common-law couples_2016\", \"Married couples_2016\",\n",
        "    \"Employed_2016\", \"Unemployed_2016\",\n",
        "    \"No certificate or diploma_2016\", \"High school or Secondary degree_2016\",\n",
        "    \"College or CEGEP degree_2016\", \"Trades certificate, diploma or apprenticeship_2016\",\n",
        "    \"Bachelors degree or higher_2016\",\n",
        "    \"Public transit_2016\", \"Walked_2016\", \"Bicycle_2016\", \"Transportation other methods_2016\",\n",
        "    \"Transportation vehicle driver_2016\", \"Transportation vehicle non-driver_2016\",\n",
        "    \"English only_2016\", \"French only_2016\", \"English and French_2016\",\n",
        "    \"English and non-official language(s)_2016\", \"French and non-official language(s)_2016\",\n",
        "    \"English, French, and non-official language(s)_2016\", \"Allophone_2016\"\n",
        "    ]\n",
        "\n",
        "fields_dwe = [\n",
        "    \"Households_2016\",\"Dwellings_2016\", \"Apartment with fewer than five stories_2016\",\n",
        "    \"Apartment with five or more storeys_2016\", \"Row house_2016\", \"Single-detached house_2016\",\n",
        "    \"Semi-detached house_2016\", \"Movable dwelling_2016\", \"Other single-attached house_2016\",\n",
        "    \"Major repairs_2016\",\"Regular maintenance_2016\",\n",
        "    \"Owned housing_2016\", \"Rented housing_2016\", \"Band housing_2016\"\n",
        "    ]\n",
        "\n",
        "fields_weighted_avg = [\n",
        "    \"Median household income ($)_2016\",\n",
        "    \"Average gross rent ($)_2016\",\n",
        "    \"Average value dwelling ($)_2016\"\n",
        "    ]\n",
        "\n",
        "fields_manual = [\n",
        "    \"Population change (%)_2016\"\n",
        "    ]\n"
      ],
      "metadata": {
        "id": "zZ6XNKCoSGqS"
      },
      "execution_count": 38,
      "outputs": []
    },
    {
      "cell_type": "code",
      "source": [
        "# Combine all fields to convert to numeric\n",
        "all_fields = fields_pop + fields_dwe + fields_weighted_avg + fields_manual\n",
        "\n",
        "# Convert all columns except GeoUID to numeric\n",
        "for col in all_fields:\n",
        "  if col != ctuidcol:\n",
        "    census_2016[col] = pd.to_numeric(census_2016[col], errors=\"coerce\")"
      ],
      "metadata": {
        "id": "OVuIT2KVSGqT"
      },
      "execution_count": 39,
      "outputs": []
    },
    {
      "cell_type": "code",
      "source": [
        "# Remove placeholder CTUIDs (-1.0) before merging\n",
        "cw_2016_2021 = cw_2016_2021[\n",
        "    (cw_2016_2021['source_ctuid'] != -1.0) &\n",
        "    (cw_2016_2021['target_ctuid'] != -1.0)\n",
        "]"
      ],
      "metadata": {
        "id": "eZROwA77SGqU"
      },
      "execution_count": 40,
      "outputs": []
    },
    {
      "cell_type": "code",
      "source": [
        "# Joining the two input tables (following model code structure exactly)\n",
        "merged = cw_2016_2021.merge(\n",
        "    census_2016,\n",
        "    how=\"outer\",\n",
        "    left_on=\"source_ctuid\",\n",
        "    right_on=ctuidcol,\n",
        "    indicator=True\n",
        ")\n",
        "\n",
        "print(merged['_merge'].value_counts())"
      ],
      "metadata": {
        "outputId": "7e313456-43b7-4d9c-b89a-0946361b31c8",
        "colab": {
          "base_uri": "https://localhost:8080/"
        },
        "id": "WlCRY79LSGqU"
      },
      "execution_count": 41,
      "outputs": [
        {
          "output_type": "stream",
          "name": "stdout",
          "text": [
            "_merge\n",
            "left_only     5374\n",
            "both          1012\n",
            "right_only       0\n",
            "Name: count, dtype: int64\n"
          ]
        }
      ]
    },
    {
      "cell_type": "markdown",
      "source": [
        "**w_pop and w_dwe**"
      ],
      "metadata": {
        "id": "7eFxD1J1SGqU"
      }
    },
    {
      "cell_type": "code",
      "source": [
        "# Apply weights\n",
        "output_fields = []\n",
        "\n",
        "for f in fields_pop:\n",
        "    weighted_col = f\"w_{f}\"\n",
        "    merged[weighted_col] = merged[\"w_pop\"] * merged[f]\n",
        "    output_fields.append(weighted_col)\n",
        "\n",
        "for f in fields_dwe:\n",
        "    weighted_col = f\"w_{f}\"\n",
        "    merged[weighted_col] = merged[\"w_dwe\"] * merged[f]\n",
        "    output_fields.append(weighted_col)\n",
        "\n",
        "# Print numbers of rows and columns\n",
        "print(merged.shape)\n",
        "\n",
        "# Print column names\n",
        "for col in merged.columns:\n",
        "    print(col)"
      ],
      "metadata": {
        "outputId": "471923cd-b47a-4feb-859b-b90871de5190",
        "colab": {
          "base_uri": "https://localhost:8080/"
        },
        "id": "sOe_YyYGSGqV"
      },
      "execution_count": 42,
      "outputs": [
        {
          "output_type": "stream",
          "name": "stdout",
          "text": [
            "(6386, 135)\n",
            "source_ctuid\n",
            "target_ctuid\n",
            "w_pop\n",
            "w_dwe\n",
            "GeoUID_2016\n",
            "Area (sq km)_2016\n",
            "Population_2016\n",
            "Dwellings_2016\n",
            "Households_2016\n",
            "Total male population_2016\n",
            "Total female population_2016\n",
            "Population change (%)_2016\n",
            "Apartment with fewer than five stories_2016\n",
            "Apartment with five or more storeys_2016\n",
            "Row house_2016\n",
            "Single-detached house_2016\n",
            "Semi-detached house_2016\n",
            "Movable dwelling_2016\n",
            "Other single-attached house_2016\n",
            "Non-movers_2016\n",
            "Movers_2016\n",
            "Visible minority_2016\n",
            "Non-visible minority_2016\n",
            "Non-Canadian citizens_2016\n",
            "Non-immigrants_2016\n",
            "Immigrants_2016\n",
            "Non-permanent residents_2016\n",
            "Canadian citizens_2016\n",
            "Non-migrants_2016\n",
            "Migrants_2016\n",
            "Internal migrants_2016\n",
            "External migrants_2016\n",
            "Never married_2016\n",
            "Divorced_2016\n",
            "Widowed_2016\n",
            "Common-law couples_2016\n",
            "Married couples_2016\n",
            "Median household income ($)_2016\n",
            "Employed_2016\n",
            "Unemployed_2016\n",
            "No certificate or diploma_2016\n",
            "High school or Secondary degree_2016\n",
            "College or CEGEP degree_2016\n",
            "Trades certificate, diploma or apprenticeship_2016\n",
            "Bachelors degree or higher_2016\n",
            "Average gross rent ($)_2016\n",
            "Average value dwelling ($)_2016\n",
            "Major repairs_2016\n",
            "Regular maintenance_2016\n",
            "Owned housing_2016\n",
            "Rented housing_2016\n",
            "Band housing_2016\n",
            "Public transit_2016\n",
            "Walked_2016\n",
            "Bicycle_2016\n",
            "Transportation other methods_2016\n",
            "Transportation vehicle driver_2016\n",
            "Transportation vehicle non-driver_2016\n",
            "English only_2016\n",
            "French only_2016\n",
            "Allophone_2016\n",
            "English and French_2016\n",
            "English and non-official language(s)_2016\n",
            "French and non-official language(s)_2016\n",
            "English, French, and non-official language(s)_2016\n",
            "Population 0 to 9_2016\n",
            "Population 10 to 19_2016\n",
            "Population 20 to 29_2016\n",
            "Population 30 to 39_2016\n",
            "Population 40 to 49_2016\n",
            "Population 50 to 59_2016\n",
            "Population 60 plus_2016\n",
            "_merge\n",
            "w_Population_2016\n",
            "w_Population 0 to 9_2016\n",
            "w_Population 10 to 19_2016\n",
            "w_Population 20 to 29_2016\n",
            "w_Population 30 to 39_2016\n",
            "w_Population 40 to 49_2016\n",
            "w_Population 50 to 59_2016\n",
            "w_Population 60 plus_2016\n",
            "w_Total male population_2016\n",
            "w_Total female population_2016\n",
            "w_Non-movers_2016\n",
            "w_Movers_2016\n",
            "w_Non-migrants_2016\n",
            "w_Migrants_2016\n",
            "w_Internal migrants_2016\n",
            "w_External migrants_2016\n",
            "w_Non-visible minority_2016\n",
            "w_Visible minority_2016\n",
            "w_Non-Canadian citizens_2016\n",
            "w_Canadian citizens_2016\n",
            "w_Non-immigrants_2016\n",
            "w_Immigrants_2016\n",
            "w_Non-permanent residents_2016\n",
            "w_Never married_2016\n",
            "w_Divorced_2016\n",
            "w_Widowed_2016\n",
            "w_Common-law couples_2016\n",
            "w_Married couples_2016\n",
            "w_Employed_2016\n",
            "w_Unemployed_2016\n",
            "w_No certificate or diploma_2016\n",
            "w_High school or Secondary degree_2016\n",
            "w_College or CEGEP degree_2016\n",
            "w_Trades certificate, diploma or apprenticeship_2016\n",
            "w_Bachelors degree or higher_2016\n",
            "w_Public transit_2016\n",
            "w_Walked_2016\n",
            "w_Bicycle_2016\n",
            "w_Transportation other methods_2016\n",
            "w_Transportation vehicle driver_2016\n",
            "w_Transportation vehicle non-driver_2016\n",
            "w_English only_2016\n",
            "w_French only_2016\n",
            "w_English and French_2016\n",
            "w_English and non-official language(s)_2016\n",
            "w_French and non-official language(s)_2016\n",
            "w_English, French, and non-official language(s)_2016\n",
            "w_Allophone_2016\n",
            "w_Households_2016\n",
            "w_Dwellings_2016\n",
            "w_Apartment with fewer than five stories_2016\n",
            "w_Apartment with five or more storeys_2016\n",
            "w_Row house_2016\n",
            "w_Single-detached house_2016\n",
            "w_Semi-detached house_2016\n",
            "w_Movable dwelling_2016\n",
            "w_Other single-attached house_2016\n",
            "w_Major repairs_2016\n",
            "w_Regular maintenance_2016\n",
            "w_Owned housing_2016\n",
            "w_Rented housing_2016\n",
            "w_Band housing_2016\n"
          ]
        }
      ]
    },
    {
      "cell_type": "code",
      "source": [
        "# Group and aggregate weighted variables\n",
        "weighted_data = merged.groupby(\"target_ctuid\")[output_fields].agg(\"sum\", min_count=1)\n",
        "\n",
        "# Drop w_ prefix\n",
        "weighted_data.columns = [c[2:] if c.startswith(\"w_\") else c for c in weighted_data.columns]\n",
        "\n",
        "# Print numbers of rows and columns\n",
        "print(weighted_data.shape)\n",
        "\n",
        "# Print column names\n",
        "for col in weighted_data.columns:\n",
        "    print(col)"
      ],
      "metadata": {
        "outputId": "6b8a2e4c-2d3e-4fcb-e8e7-48bf2dceeb9d",
        "colab": {
          "base_uri": "https://localhost:8080/"
        },
        "id": "5lsbs1P1SGqV"
      },
      "execution_count": 43,
      "outputs": [
        {
          "output_type": "stream",
          "name": "stdout",
          "text": [
            "(6227, 62)\n",
            "Population_2016\n",
            "Population 0 to 9_2016\n",
            "Population 10 to 19_2016\n",
            "Population 20 to 29_2016\n",
            "Population 30 to 39_2016\n",
            "Population 40 to 49_2016\n",
            "Population 50 to 59_2016\n",
            "Population 60 plus_2016\n",
            "Total male population_2016\n",
            "Total female population_2016\n",
            "Non-movers_2016\n",
            "Movers_2016\n",
            "Non-migrants_2016\n",
            "Migrants_2016\n",
            "Internal migrants_2016\n",
            "External migrants_2016\n",
            "Non-visible minority_2016\n",
            "Visible minority_2016\n",
            "Non-Canadian citizens_2016\n",
            "Canadian citizens_2016\n",
            "Non-immigrants_2016\n",
            "Immigrants_2016\n",
            "Non-permanent residents_2016\n",
            "Never married_2016\n",
            "Divorced_2016\n",
            "Widowed_2016\n",
            "Common-law couples_2016\n",
            "Married couples_2016\n",
            "Employed_2016\n",
            "Unemployed_2016\n",
            "No certificate or diploma_2016\n",
            "High school or Secondary degree_2016\n",
            "College or CEGEP degree_2016\n",
            "Trades certificate, diploma or apprenticeship_2016\n",
            "Bachelors degree or higher_2016\n",
            "Public transit_2016\n",
            "Walked_2016\n",
            "Bicycle_2016\n",
            "Transportation other methods_2016\n",
            "Transportation vehicle driver_2016\n",
            "Transportation vehicle non-driver_2016\n",
            "English only_2016\n",
            "French only_2016\n",
            "English and French_2016\n",
            "English and non-official language(s)_2016\n",
            "French and non-official language(s)_2016\n",
            "English, French, and non-official language(s)_2016\n",
            "Allophone_2016\n",
            "Households_2016\n",
            "Dwellings_2016\n",
            "Apartment with fewer than five stories_2016\n",
            "Apartment with five or more storeys_2016\n",
            "Row house_2016\n",
            "Single-detached house_2016\n",
            "Semi-detached house_2016\n",
            "Movable dwelling_2016\n",
            "Other single-attached house_2016\n",
            "Major repairs_2016\n",
            "Regular maintenance_2016\n",
            "Owned housing_2016\n",
            "Rented housing_2016\n",
            "Band housing_2016\n"
          ]
        }
      ]
    },
    {
      "cell_type": "markdown",
      "source": [
        "**weighted average**"
      ],
      "metadata": {
        "id": "jsQ2qkvSSGqV"
      }
    },
    {
      "cell_type": "code",
      "source": [
        "# Initialize an empty DataFrame for weighted averages\n",
        "weighted_avg_output = pd.DataFrame()\n",
        "\n",
        "# For median household income (w_pop)\n",
        "income_col = \"Median household income ($)_2016\"\n",
        "weighted_income = (\n",
        "    (merged[income_col] * merged[\"w_pop\"])\n",
        "    .groupby(merged[\"target_ctuid\"])\n",
        "    .agg(\"sum\", min_count=1)\n",
        "    / merged[\"w_pop\"].groupby(merged[\"target_ctuid\"]).agg(\"sum\", min_count=1)\n",
        ")\n",
        "weighted_avg_output[income_col] = weighted_income\n",
        "\n",
        "# For average gross rent (w_dwe)\n",
        "rent_col = \"Average gross rent ($)_2016\"\n",
        "weighted_rent = (\n",
        "    (merged[rent_col] * merged[\"w_dwe\"])\n",
        "    .groupby(merged[\"target_ctuid\"])\n",
        "    .agg(\"sum\", min_count=1)\n",
        "    / merged[\"w_dwe\"].groupby(merged[\"target_ctuid\"]).agg(\"sum\", min_count=1)\n",
        ")\n",
        "weighted_avg_output[rent_col] = weighted_rent\n",
        "\n",
        "# For average dwelling value (w_dwe)\n",
        "value_col = \"Average value dwelling ($)_2016\"\n",
        "weighted_value = (\n",
        "    (merged[value_col] * merged[\"w_dwe\"])\n",
        "    .groupby(merged[\"target_ctuid\"])\n",
        "    .agg(\"sum\", min_count=1)\n",
        "    / merged[\"w_dwe\"].groupby(merged[\"target_ctuid\"]).agg(\"sum\", min_count=1)\n",
        ")\n",
        "weighted_avg_output[value_col] = weighted_value\n",
        "\n",
        "# Print column names\n",
        "for col in weighted_avg_output.columns:\n",
        "    print(col)"
      ],
      "metadata": {
        "outputId": "188f0ab3-f763-4149-d067-e4c25deb0560",
        "colab": {
          "base_uri": "https://localhost:8080/"
        },
        "id": "Bwpwb61uSGqW"
      },
      "execution_count": 45,
      "outputs": [
        {
          "output_type": "stream",
          "name": "stdout",
          "text": [
            "Median household income ($)_2016\n",
            "Average gross rent ($)_2016\n",
            "Average value dwelling ($)_2016\n"
          ]
        }
      ]
    },
    {
      "cell_type": "code",
      "source": [
        "# Combine weighted sums and weighed averages\n",
        "final_2016_to_2021 = (\n",
        "    weighted_data\n",
        "    .join(weighted_avg_output, how=\"outer\")\n",
        "    .reset_index()\n",
        "    .rename(columns={\"target_ctuid\": \"GeoUID_2021\"})\n",
        ")\n",
        "\n",
        "print(final_2016_to_2021.shape)\n",
        "print(final_2016_to_2021.head())"
      ],
      "metadata": {
        "outputId": "a854e5dd-48c9-4ca7-d4fa-c31a1434d1e2",
        "colab": {
          "base_uri": "https://localhost:8080/"
        },
        "id": "M4p0pkQdSGqW"
      },
      "execution_count": 46,
      "outputs": [
        {
          "output_type": "stream",
          "name": "stdout",
          "text": [
            "(6227, 66)\n",
            "   GeoUID_2021  Population_2016  Population 0 to 9_2016  \\\n",
            "0     10001.00              NaN                     NaN   \n",
            "1     10002.00              NaN                     NaN   \n",
            "2     10003.01              NaN                     NaN   \n",
            "3     10003.02              NaN                     NaN   \n",
            "4     10004.01              NaN                     NaN   \n",
            "\n",
            "   Population 10 to 19_2016  Population 20 to 29_2016  \\\n",
            "0                       NaN                       NaN   \n",
            "1                       NaN                       NaN   \n",
            "2                       NaN                       NaN   \n",
            "3                       NaN                       NaN   \n",
            "4                       NaN                       NaN   \n",
            "\n",
            "   Population 30 to 39_2016  Population 40 to 49_2016  \\\n",
            "0                       NaN                       NaN   \n",
            "1                       NaN                       NaN   \n",
            "2                       NaN                       NaN   \n",
            "3                       NaN                       NaN   \n",
            "4                       NaN                       NaN   \n",
            "\n",
            "   Population 50 to 59_2016  Population 60 plus_2016  \\\n",
            "0                       NaN                      NaN   \n",
            "1                       NaN                      NaN   \n",
            "2                       NaN                      NaN   \n",
            "3                       NaN                      NaN   \n",
            "4                       NaN                      NaN   \n",
            "\n",
            "   Total male population_2016  ...  Movable dwelling_2016  \\\n",
            "0                         NaN  ...                    NaN   \n",
            "1                         NaN  ...                    NaN   \n",
            "2                         NaN  ...                    NaN   \n",
            "3                         NaN  ...                    NaN   \n",
            "4                         NaN  ...                    NaN   \n",
            "\n",
            "   Other single-attached house_2016  Major repairs_2016  \\\n",
            "0                               NaN                 NaN   \n",
            "1                               NaN                 NaN   \n",
            "2                               NaN                 NaN   \n",
            "3                               NaN                 NaN   \n",
            "4                               NaN                 NaN   \n",
            "\n",
            "   Regular maintenance_2016  Owned housing_2016  Rented housing_2016  \\\n",
            "0                       NaN                 NaN                  NaN   \n",
            "1                       NaN                 NaN                  NaN   \n",
            "2                       NaN                 NaN                  NaN   \n",
            "3                       NaN                 NaN                  NaN   \n",
            "4                       NaN                 NaN                  NaN   \n",
            "\n",
            "   Band housing_2016  Median household income ($)_2016  \\\n",
            "0                NaN                               NaN   \n",
            "1                NaN                               NaN   \n",
            "2                NaN                               NaN   \n",
            "3                NaN                               NaN   \n",
            "4                NaN                               NaN   \n",
            "\n",
            "   Average gross rent ($)_2016  Average value dwelling ($)_2016  \n",
            "0                          NaN                              NaN  \n",
            "1                          NaN                              NaN  \n",
            "2                          NaN                              NaN  \n",
            "3                          NaN                              NaN  \n",
            "4                          NaN                              NaN  \n",
            "\n",
            "[5 rows x 66 columns]\n"
          ]
        }
      ]
    },
    {
      "cell_type": "code",
      "source": [
        "# Export file\n",
        "final_2016_to_2021.to_csv('/content/drive/MyDrive/Ai4Good_Project/GentrificAItion/montreal_data_processing/data_cleaning/4_standardized_data/2016_standardized.csv', index=False)"
      ],
      "metadata": {
        "id": "rLCFcrozSGqW"
      },
      "execution_count": 48,
      "outputs": []
    }
  ]
}