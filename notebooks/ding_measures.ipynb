{
  "nbformat": 4,
  "nbformat_minor": 0,
  "metadata": {
    "colab": {
      "provenance": [],
      "authorship_tag": "ABX9TyM/EXutjdku20Oq4eT9ejFl",
      "include_colab_link": true
    },
    "kernelspec": {
      "name": "python3",
      "display_name": "Python 3"
    },
    "language_info": {
      "name": "python"
    }
  },
  "cells": [
    {
      "cell_type": "markdown",
      "metadata": {
        "id": "view-in-github",
        "colab_type": "text"
      },
      "source": [
        "<a href=\"https://colab.research.google.com/github/EmilyHong77/gentrification_in_montreal/blob/main/notebooks/ding_measures.ipynb\" target=\"_parent\"><img src=\"https://colab.research.google.com/assets/colab-badge.svg\" alt=\"Open In Colab\"/></a>"
      ]
    },
    {
      "cell_type": "markdown",
      "source": [
        "**Information**<br>\n",
        "Ding Measures Source:<br>\n",
        "\n",
        "\n",
        "\n"
      ],
      "metadata": {
        "id": "ExH7Kl1agCev"
      }
    },
    {
      "cell_type": "markdown",
      "source": [
        "**Mount Drive**"
      ],
      "metadata": {
        "id": "XeiGaWPDqu8M"
      }
    },
    {
      "cell_type": "code",
      "source": [
        "from google.colab import drive\n",
        "drive.mount('/content/drive')"
      ],
      "metadata": {
        "id": "H-tK2gSsq2-v"
      },
      "execution_count": null,
      "outputs": []
    },
    {
      "cell_type": "markdown",
      "source": [
        "**Libraries**"
      ],
      "metadata": {
        "id": "9Luv70DkoUND"
      }
    },
    {
      "cell_type": "code",
      "source": [
        "import numpy as np\n",
        "import pandas as pd"
      ],
      "metadata": {
        "id": "FUBGbaWkoXUR"
      },
      "execution_count": null,
      "outputs": []
    },
    {
      "cell_type": "markdown",
      "source": [
        "# Merge Datasets"
      ],
      "metadata": {
        "id": "lWi83OAbfrqL"
      }
    },
    {
      "cell_type": "code",
      "source": [
        "# Read in the data\n",
        "standardized_2001 = pd.read_csv('content/drive/MyDrive/GentrificAItion/montreal_data_processing/data_cleaning/4_standardized_data/2001_standardized.csv')\n",
        "standardized_2006 = pd.read_csv('content/drive/MyDrive/GentrificAItion/montreal_data_processing/data_cleaning/4_standardized_data/2006_standardized.csv')\n",
        "standardized_2011 = pd.read_csv('content/drive/MyDrive/GentrificAItion/montreal_data_processing/data_cleaning/4_standardized_data/2011_standardized.csv')\n",
        "standardized_2016 = pd.read_csv('content/drive/MyDrive/GentrificAItion/montreal_data_processing/data_cleaning/4_standardized_data/2016_standardized.csv')\n",
        "standardized_2021 = pd.read_csv('content/drive/MyDrive/GentrificAItion/montreal_data_processing/data_cleaning/4_standardized_data/2021_standardized.csv')"
      ],
      "metadata": {
        "id": "2GlLRcj0fqvf"
      },
      "execution_count": null,
      "outputs": []
    },
    {
      "cell_type": "markdown",
      "source": [
        "To do:\n",
        "- use subset census tract present for all years\n",
        "- combine years"
      ],
      "metadata": {
        "id": "sZq3uNs2g3r4"
      }
    },
    {
      "cell_type": "markdown",
      "source": [
        "# Ding Measurements"
      ],
      "metadata": {
        "id": "g2Ngnsrxf4EH"
      }
    },
    {
      "cell_type": "markdown",
      "source": [
        "**Ding Measurements**\n",
        "1. Gentrifiable Measure\n",
        "2. Gentrified Measure\n",
        "3. Gentrification Levels\n"
      ],
      "metadata": {
        "id": "p6kaVvcoq_up"
      }
    },
    {
      "cell_type": "markdown",
      "source": [
        "## Gentrifiable Measure\n",
        "\n",
        "**Formula**:<br>\n",
        "median household income < median of CMA\n",
        "- CMA 2001: 47267 (Census data)\n",
        "- CMA 2006: 47979 (Census data)\n",
        "- CMA 2011: 53024 (Stats Can)\n",
        "- CMA 2016: 61970 (Stats Can)\n",
        "- CMA 2021: 462"
      ],
      "metadata": {
        "id": "GM-GYa0A9TuG"
      }
    },
    {
      "cell_type": "code",
      "source": [],
      "metadata": {
        "id": "j0ZYKZAyAgmY"
      },
      "execution_count": null,
      "outputs": []
    },
    {
      "cell_type": "markdown",
      "source": [
        "## Gentrified Measure\n",
        "\n",
        "**Formula**<br>\n",
        "increase university degrees > median for CMA <br>\n",
        "increase in housing value > median for CMA <br>\n",
        "increase in renting costs > median for CMA"
      ],
      "metadata": {
        "id": "5V58stIV-Q4d"
      }
    },
    {
      "cell_type": "code",
      "source": [],
      "metadata": {
        "id": "BJdBg54KAhBJ"
      },
      "execution_count": null,
      "outputs": []
    },
    {
      "cell_type": "markdown",
      "source": [
        "## Gentrification Levels\n",
        "\n",
        "**Formula**<br>\n",
        "Weak: rent or housing value increased ≤\n",
        " 25th percentile<br>\n",
        "Moderate: rent or housing value increased with the 25th - 75th percentile<br>\n",
        "Intense: rent or housing value increased > 75th percentile\n"
      ],
      "metadata": {
        "id": "0rmf6_Xc_Ovj"
      }
    },
    {
      "cell_type": "code",
      "source": [],
      "metadata": {
        "id": "Lw3Gtl8dAhgv"
      },
      "execution_count": null,
      "outputs": []
    }
  ]
}