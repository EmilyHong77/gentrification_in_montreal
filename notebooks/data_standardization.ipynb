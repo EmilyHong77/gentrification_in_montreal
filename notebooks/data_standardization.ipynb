{
  "nbformat": 4,
  "nbformat_minor": 0,
  "metadata": {
    "colab": {
      "provenance": [],
      "include_colab_link": true
    },
    "kernelspec": {
      "name": "python3",
      "display_name": "Python 3"
    },
    "language_info": {
      "name": "python"
    }
  },
  "cells": [
    {
      "cell_type": "markdown",
      "metadata": {
        "id": "view-in-github",
        "colab_type": "text"
      },
      "source": [
        "<a href=\"https://colab.research.google.com/github/EmilyHong77/gentrification_in_montreal/blob/main/notebooks/data_standardization.ipynb\" target=\"_parent\"><img src=\"https://colab.research.google.com/assets/colab-badge.svg\" alt=\"Open In Colab\"/></a>"
      ]
    },
    {
      "cell_type": "markdown",
      "source": [
        "**Information**<br>\n",
        "Crosswalk Source: <br>\n",
        "https://github.com/jamaps/CLTD/tree/master/crosswalk_tables\n",
        "\n",
        "This notebook performs standardization of census data across multiple years (2001 to 2021). Key steps include applying weighting methodology to population-based and dwelling-based variables (e.g., total and age-specific population counts, citizenship and migration status, marital status, education attainment, employment and unemployment, commuting modes, and language use), as well as household and dwelling characteristics (e.g., dwelling type, condition, and tenure).\n",
        "Income and housing cost measures (e.g., median household income, average gross rent, and average dwelling value) are standardized through proportional weighting, while select indicators (e.g., population change %) require manual calculation. Placeholders are removed where census tracts do not have valid matches across years.\n",
        "Steps vary for census years, depending on variable availability, weighting structure, or tract boundary changes across years.\n",
        "This process prepares the datasets for Ding measurement application."
      ],
      "metadata": {
        "id": "Dmdqtlejzs3O"
      }
    },
    {
      "cell_type": "markdown",
      "source": [
        "**Mount Drive**"
      ],
      "metadata": {
        "id": "cL5eFOBO_xZH"
      }
    },
    {
      "cell_type": "code",
      "source": [
        "from google.colab import drive\n",
        "drive.mount('/content/drive')"
      ],
      "metadata": {
        "id": "DECFLoTH0foy"
      },
      "execution_count": null,
      "outputs": []
    },
    {
      "cell_type": "markdown",
      "source": [
        "**Library**"
      ],
      "metadata": {
        "id": "KBLlYaPa_9IN"
      }
    },
    {
      "cell_type": "code",
      "source": [
        "import pandas as pd\n",
        "import numpy as np"
      ],
      "metadata": {
        "id": "puW4_VhV2QWz"
      },
      "execution_count": null,
      "outputs": []
    },
    {
      "cell_type": "markdown",
      "source": [
        "# 1996 Standardization"
      ],
      "metadata": {
        "id": "4WtJxWQbmWuj"
      }
    },
    {
      "cell_type": "markdown",
      "source": [
        "**1996→2021 Crosswalk Summary**: <br>\n",
        "\n",
        "unique source_ctuid: 4219 <br>\n",
        "unique target_ctuid: 5959 <br>\n",
        "Final 1996 Standardized Table Shape: 5959 rows x 2 columns"
      ],
      "metadata": {
        "id": "PqXw6q59qiLh"
      }
    },
    {
      "cell_type": "code",
      "source": [
        "# Read in the data\n",
        "census_1996 = pd.read_csv('/content/drive/MyDrive/GentrificAItion/montreal_data_processing/data_cleaning/2_clean_data/1996_clean.csv')\n",
        "\n",
        "# Read in crosswalk table\n",
        "cw_1996_2021 = pd.read_csv('/content/drive/MyDrive/GentrificAItion/montreal_data_processing/data_cleaning/3_census_crosswalks/ct_1996_2021.csv')"
      ],
      "metadata": {
        "id": "LKKDGWj4mgfK"
      },
      "execution_count": null,
      "outputs": []
    },
    {
      "cell_type": "code",
      "source": [
        "# Define CTUID column name\n",
        "ctuidcol = \"GeoUID_1996\"\n",
        "\n",
        "# w_pop variable\n",
        "field_pop = [\n",
        "    \"Population_1996\"\n",
        "    ]"
      ],
      "metadata": {
        "id": "50K6Mlndvgod"
      },
      "execution_count": null,
      "outputs": []
    },
    {
      "cell_type": "code",
      "source": [
        "# Remove placeholder CTUIDs (-1.0) before merging\n",
        "cw_1996_2021 = cw_1996_2021[\n",
        "    (cw_1996_2021['source_ctuid'] != -1.0) &\n",
        "    (cw_1996_2021['target_ctuid'] != -1.0)\n",
        "]"
      ],
      "metadata": {
        "id": "9i9fmQoIQS3v"
      },
      "execution_count": null,
      "outputs": []
    },
    {
      "cell_type": "code",
      "source": [
        "# Joining the two input tables (following model code structure exactly)\n",
        "merged = cw_1996_2021.merge(\n",
        "    census_1996,\n",
        "    how=\"outer\",\n",
        "    left_on=\"source_ctuid\",\n",
        "    right_on=ctuidcol,\n",
        "    indicator=True\n",
        ")\n",
        "\n",
        "print(merged['_merge'].value_counts())"
      ],
      "metadata": {
        "id": "Or6s0xpbwaLS"
      },
      "execution_count": null,
      "outputs": []
    },
    {
      "cell_type": "code",
      "source": [
        "# Apply population weight to single variable\n",
        "single_field = field_pop[0]\n",
        "weighted_col = f\"w_{single_field}\"\n",
        "merged[weighted_col] = merged[\"w_pop\"] * merged[single_field]"
      ],
      "metadata": {
        "id": "LHi3rMOMwkF5"
      },
      "execution_count": null,
      "outputs": []
    },
    {
      "cell_type": "code",
      "source": [
        "# Group by the target census tracts, summing by the wanted fields\n",
        "output_fields = [weighted_col]\n",
        "output_data = merged.groupby([\"target_ctuid\"])[output_fields].agg(\"sum\", min_count=1).reset_index()\n",
        "output_data = output_data.rename(columns={\"target_ctuid\": \"GeoUID_2021\"})\n",
        "\n",
        "# Drop w_ prefix\n",
        "output_data.columns = [c[2:] if c.startswith(\"w_\") else c for c in output_data.columns]"
      ],
      "metadata": {
        "id": "GRzdzaFMysA1"
      },
      "execution_count": null,
      "outputs": []
    },
    {
      "cell_type": "code",
      "source": [
        "print(output_data.shape)\n",
        "print(output_data.head())"
      ],
      "metadata": {
        "id": "gZcRuGET0DWO"
      },
      "execution_count": null,
      "outputs": []
    },
    {
      "cell_type": "code",
      "source": [
        "# Export file to drive\n",
        "output_data.to_csv('/content/drive/MyDrive/GentrificAItion/montreal_data_processing/data_cleaning/4_standardized_data/1996_standardized.csv', index=False)"
      ],
      "metadata": {
        "id": "baha4Vax0ZGe"
      },
      "execution_count": null,
      "outputs": []
    },
    {
      "cell_type": "markdown",
      "source": [
        "# 2001 Standardization"
      ],
      "metadata": {
        "id": "YkUuKTV4DnKF"
      }
    },
    {
      "cell_type": "markdown",
      "source": [
        "**2001→2021 Crosswalk Summary**:\n",
        "\n",
        "unique source_ctuid: 4798<br>\n",
        "unique target_ctuid: 6078<br>\n",
        "Final 2001 Standardized Table Shape: 6078 rows x 67 columns"
      ],
      "metadata": {
        "id": "A5UnN_hZqF9U"
      }
    },
    {
      "cell_type": "code",
      "source": [
        "# Read in the data\n",
        "census_2001 = pd.read_csv('/content/drive/MyDrive/GentrificAItion/montreal_data_processing/data_cleaning/2_clean_data/2001_clean.csv')\n",
        "\n",
        "# Read in crosswalk table\n",
        "cw_2001_2021 = pd.read_csv('/content/drive/MyDrive/GentrificAItion/montreal_data_processing/data_cleaning/3_census_crosswalks/ct_2001_2021.csv')"
      ],
      "metadata": {
        "id": "D9H7spb_w9Pb"
      },
      "execution_count": null,
      "outputs": []
    },
    {
      "cell_type": "markdown",
      "source": [
        "**Weighting Methodology**\n",
        "\n",
        "- **absolute values** (total counts) <br>\n",
        "Apply weights using: <br>\n",
        "• w_pop → for population-based variables (48 variables) <br>\n",
        "• w_dwe → for dwelling-based variables (14 variables)\n",
        "- **averages/medians** <br>\n",
        "Use a weighted average, where each tract’s value is weighted by its population or number of dwellings. Since these are averages rather than totals, we apply proportional weighting instead of direct multiplication.<br>\n",
        "• Median household income <br>\n",
        "• Average gross rent <br>\n",
        "• Average dwelling value\n",
        "- **special handling**: <br>\n",
        "Variable requiring manual calculation.  <br>\n",
        "• Population change %"
      ],
      "metadata": {
        "id": "aoMtzQ7ZoYVc"
      }
    },
    {
      "cell_type": "code",
      "source": [
        "# Define CTUID column name\n",
        "ctuidcol = \"GeoUID_2001\"\n",
        "\n",
        "# Categorize variables on calculation type (66 variables total excluding GeoUID and Area (sq km))\n",
        "fields_pop = [\n",
        "    \"Population_2001\",\n",
        "    \"Population 0 to 9_2001\", \"Population 10 to 19_2001\", \"Population 20 to 29_2001\",\n",
        "    \"Population 30 to 39_2001\", \"Population 40 to 49_2001\", \"Population 50 to 59_2001\",\n",
        "    \"Population 60 plus_2001\", \"Total male population_2001\", \"Total female population_2001\",\n",
        "    \"Non-movers_2001\", \"Movers_2001\", \"Non-migrants_2001\",\n",
        "    \"Migrants_2001\", \"Internal migrants_2001\", \"External migrants_2001\", \"Non-visible minority_2001\",\n",
        "    \"Visible minority_2001\", \"Non-Canadian citizens_2001\", \"Canadian citizens_2001\",\n",
        "    \"Non-immigrants_2001\", \"Immigrants_2001\", \"Non-permanent residents_2001\", \"Never married_2001\",\n",
        "    \"Divorced_2001\", \"Widowed_2001\", \"Common-law couples_2001\", \"Married couples_2001\",\n",
        "    \"Employed_2001\", \"Unemployed_2001\",\n",
        "    \"No certificate or diploma_2001\", \"High school or Secondary degree_2001\",\n",
        "    \"College or CEGEP degree_2001\", \"Trades certificate, diploma or apprenticeship_2001\",\n",
        "    \"Bachelors degree or higher_2001\",\n",
        "    \"Public transit_2001\", \"Walked_2001\", \"Bicycle_2001\", \"Transportation other methods_2001\",\n",
        "    \"Transportation vehicle driver_2001\", \"Transportation vehicle non-driver_2001\",\n",
        "    \"English only_2001\", \"French only_2001\", \"English and French_2001\",\n",
        "    \"English and non-official language(s)_2001\", \"French and non-official language(s)_2001\",\n",
        "    \"English, French, and non-official language(s)_2001\", \"Allophone_2001\"\n",
        "    ]\n",
        "\n",
        "fields_dwe = [\n",
        "    \"Households_2001\",\"Dwellings_2001\", \"Apartment with fewer than five stories_2001\",\n",
        "    \"Apartment with five or more storeys_2001\", \"Row house_2001\", \"Single-detached house_2001\",\n",
        "    \"Semi-detached house_2001\", \"Movable dwelling_2001\", \"Other single-attached house_2001\",\n",
        "    \"Major repairs_2001\",\"Regular maintenance_2001\",\n",
        "    \"Owned housing_2001\", \"Rented housing_2001\", \"Band housing_2001\"\n",
        "    ]\n",
        "\n",
        "fields_weighted_avg = [\n",
        "    \"Median household income ($)_2001\",\n",
        "    \"Average gross rent ($)_2001\",\n",
        "    \"Average value dwelling ($)_2001\"\n",
        "    ]\n",
        "\n",
        "fields_manual = [\n",
        "    \"Population change (%)_2001\"\n",
        "    ]"
      ],
      "metadata": {
        "id": "hzEB1u1ylJat"
      },
      "execution_count": null,
      "outputs": []
    },
    {
      "cell_type": "code",
      "source": [
        "# Combine all fields to convert to numeric\n",
        "all_fields = fields_pop + fields_dwe + fields_weighted_avg + fields_manual\n",
        "\n",
        "# Convert all columns except GeoUID to numeric\n",
        "for col in all_fields:\n",
        "  if col != ctuidcol:\n",
        "    census_2001[col] = pd.to_numeric(census_2001[col], errors=\"coerce\")"
      ],
      "metadata": {
        "id": "4gOi0VwG88ls"
      },
      "execution_count": null,
      "outputs": []
    },
    {
      "cell_type": "markdown",
      "source": [
        "**Placeholders** (-1) are used in the crosswalk file to indicate census tracts that do not have a valid match across years. <br>\n",
        "- For source_ctuid = -1, the weights (w_pop, w_dwe) are -1.\n",
        "- For target_ctuid = -1, the weights are 0 (1.00E-10). <br>\n",
        "\n",
        "Because these rows represent invalid or negligible mappings, we dropped all -1 placeholders before merging."
      ],
      "metadata": {
        "id": "4ZQd715DZZQX"
      }
    },
    {
      "cell_type": "code",
      "source": [
        "# Remove placeholder CTUIDs (-1.0) before merging\n",
        "cw_2001_2021 = cw_2001_2021[\n",
        "    (cw_2001_2021['source_ctuid'] != -1.0) &\n",
        "    (cw_2001_2021['target_ctuid'] != -1.0)\n",
        "]"
      ],
      "metadata": {
        "id": "ohQnCgJiWBVo"
      },
      "execution_count": null,
      "outputs": []
    },
    {
      "cell_type": "code",
      "source": [
        "# Joining the two input tables (following model code structure exactly)\n",
        "merged = cw_2001_2021.merge(\n",
        "    census_2001,\n",
        "    how=\"outer\",\n",
        "    left_on=\"source_ctuid\",\n",
        "    right_on=ctuidcol,\n",
        "    indicator=True\n",
        ")\n",
        "\n",
        "print(merged['_merge'].value_counts())"
      ],
      "metadata": {
        "id": "umQOp_IqsqR1"
      },
      "execution_count": null,
      "outputs": []
    },
    {
      "cell_type": "markdown",
      "source": [
        "\n",
        "**Definitions** <br>\n",
        "**splits**: a single source_ctuid (2001) mapping to multiple target_ctuid (2021) <br>\n",
        "**merge**: a single target_ctuid (2021) receiving multiple source_ctuid (2001) <br>\n",
        "<br>\n",
        "**Verified Findings**<br>\n",
        "2001 census tracts are a subset of the crosswalk tracts <br>\n",
        "- **matches**: 862 GEOUID_2001 matched with 985 source_ctuid tracts; 3,936 additional unique source_ctuid in the crosswalk are unmatched. <br>\n",
        "- **2001 splits**: 94 matched 2001 tracts split (69 split into 2 targets, 21 into 3, 4 into 4); 768 did not split. <br>\n",
        "- **2021 merge**: No partial merges. Every merge target is either fully covered by matched sources or fully outside the subset (0 targets mixing matched + unmatched sources)."
      ],
      "metadata": {
        "id": "QMCS_Z7GyDjP"
      }
    },
    {
      "cell_type": "markdown",
      "source": [
        "**w_pop and w_dwe**"
      ],
      "metadata": {
        "id": "IVtXyD4ZDgHw"
      }
    },
    {
      "cell_type": "code",
      "source": [
        "# Apply weights\n",
        "output_fields = []\n",
        "\n",
        "for f in fields_pop:\n",
        "    weighted_col = f\"w_{f}\"\n",
        "    merged[weighted_col] = merged[\"w_pop\"] * merged[f]\n",
        "    output_fields.append(weighted_col)\n",
        "\n",
        "for f in fields_dwe:\n",
        "    weighted_col = f\"w_{f}\"\n",
        "    merged[weighted_col] = merged[\"w_dwe\"] * merged[f]\n",
        "    output_fields.append(weighted_col)\n",
        "\n",
        "# Print numbers of rows and columns\n",
        "print(merged.shape)\n",
        "\n",
        "# Print column names\n",
        "for col in merged.columns:\n",
        "    print(col)"
      ],
      "metadata": {
        "id": "S_lVIgionWPl"
      },
      "execution_count": null,
      "outputs": []
    },
    {
      "cell_type": "code",
      "source": [
        "# Group and aggregate weighted variables\n",
        "weighted_data = merged.groupby(\"target_ctuid\")[output_fields].agg(\"sum\", min_count=1)\n",
        "\n",
        "# Drop w_ prefix\n",
        "weighted_data.columns = [c[2:] if c.startswith(\"w_\") else c for c in weighted_data.columns]\n",
        "\n",
        "# Print numbers of rows and columns\n",
        "print(weighted_data.shape)\n",
        "\n",
        "# Print column names\n",
        "for col in weighted_data.columns:\n",
        "    print(col)"
      ],
      "metadata": {
        "id": "MujtqwJY-j32"
      },
      "execution_count": null,
      "outputs": []
    },
    {
      "cell_type": "markdown",
      "source": [
        "**Next...**\n",
        "- Calculate weighted average\n",
        "- Manual calculation for special cases (obtain 1996 population)\n",
        "- Inspect values and export dataset"
      ],
      "metadata": {
        "id": "s2qKHabAodn_"
      }
    },
    {
      "cell_type": "markdown",
      "source": [
        "**weighted average**"
      ],
      "metadata": {
        "id": "U5aQ6sZgtu3t"
      }
    },
    {
      "cell_type": "code",
      "source": [
        "# Initialize an empty DataFrame for weighted averages\n",
        "weighted_avg_output = pd.DataFrame()\n",
        "\n",
        "# For median household income (w_pop)\n",
        "income_col = \"Median household income ($)_2001\"\n",
        "weighted_income = (\n",
        "    (merged[income_col] * merged[\"w_pop\"])\n",
        "    .groupby(merged[\"target_ctuid\"])\n",
        "    .agg(\"sum\", min_count=1)\n",
        "    / merged[\"w_pop\"].groupby(merged[\"target_ctuid\"]).agg(\"sum\", min_count=1)\n",
        ")\n",
        "weighted_avg_output[income_col] = weighted_income\n",
        "\n",
        "# For average gross rent (w_dwe)\n",
        "rent_col = \"Average gross rent ($)_2001\"\n",
        "weighted_rent = (\n",
        "    (merged[rent_col] * merged[\"w_dwe\"])\n",
        "    .groupby(merged[\"target_ctuid\"])\n",
        "    .agg(\"sum\", min_count=1)\n",
        "    / merged[\"w_dwe\"].groupby(merged[\"target_ctuid\"]).agg(\"sum\", min_count=1)\n",
        ")\n",
        "weighted_avg_output[rent_col] = weighted_rent\n",
        "\n",
        "# For average dwelling value (w_dwe)\n",
        "value_col = \"Average value dwelling ($)_2001\"\n",
        "weighted_value = (\n",
        "    (merged[value_col] * merged[\"w_dwe\"])\n",
        "    .groupby(merged[\"target_ctuid\"])\n",
        "    .agg(\"sum\", min_count=1)\n",
        "    / merged[\"w_dwe\"].groupby(merged[\"target_ctuid\"]).agg(\"sum\", min_count=1)\n",
        ")\n",
        "weighted_avg_output[value_col] = weighted_value\n",
        "\n",
        "# Print column names\n",
        "for col in weighted_avg_output.columns:\n",
        "    print(col)"
      ],
      "metadata": {
        "id": "5aqZP00yHBWo"
      },
      "execution_count": null,
      "outputs": []
    },
    {
      "cell_type": "markdown",
      "source": [
        "**Findings Update:** <br>\n",
        "- **2021 merges**: 15 targets (within subset) are merges\n",
        "  - full coverage: 14 merge targets have complete data for all average fields\n",
        "  - partial coverage: 1 merge target has some sources missing average fields (averages computed from available sources)<br>\n",
        "  target_ctuid: 4620314.0  \n",
        "  present: 4620314.0 <br>\n",
        "  missing: 4620315.0\n",
        "  - No-data merges: 0 merge targets lack data for all average fields\n",
        "- **avg-field (source lvl)**: 16 matched 2001 source_ctuid have no values for the average-type columns.<br>\n",
        "These sources contribute nothing to average numerators/denominators; any 2021 target built only from such sources will have those averages NaN."
      ],
      "metadata": {
        "id": "B7FOZktaPpjr"
      }
    },
    {
      "cell_type": "code",
      "source": [
        "# Combine weighted sums and weighed averages\n",
        "final_2001_to_2021 = (\n",
        "    weighted_data\n",
        "    .join(weighted_avg_output, how=\"outer\")\n",
        "    .reset_index()\n",
        "    .rename(columns={\"target_ctuid\": \"GeoUID_2021\"})\n",
        ")\n",
        "\n",
        "print(final_2001_to_2021.shape)\n",
        "print(final_2001_to_2021.head())"
      ],
      "metadata": {
        "id": "5uTbpDsa9R1J"
      },
      "execution_count": null,
      "outputs": []
    },
    {
      "cell_type": "markdown",
      "source": [
        "**population change calculation**"
      ],
      "metadata": {
        "id": "IWz31WoS4t48"
      }
    },
    {
      "cell_type": "code",
      "source": [
        "# Read in the standardized 1996 data\n",
        "df1996 = pd.read_csv('/content/drive/MyDrive/GentrificAItion/montreal_data_processing/data_cleaning/4_standardized_data/1996_standardized.csv')\n",
        "\n",
        "# Merge 1996 population into the 2001-standardized table\n",
        "final_2001_to_2021 = final_2001_to_2021.merge(\n",
        "    df1996,\n",
        "    on=\"GeoUID_2021\",\n",
        "    how=\"left\"\n",
        ")\n",
        "\n",
        "# Calculate % change (1996 → 2001)\n",
        "den = pd.to_numeric(final_2001_to_2021[\"Population_1996\"], errors=\"coerce\").replace(0, np.nan)\n",
        "num = pd.to_numeric(final_2001_to_2021[\"Population_2001\"], errors=\"coerce\")\n",
        "final_2001_to_2021[\"Population change (%)_2001\"] = ((num - den) / den * 100).round(1)\n",
        "\n",
        "# Quick check\n",
        "print(final_2001_to_2021[[\"GeoUID_2021\", \"Population_1996\", \"Population_2001\", \"Population change (%)_2001\"]].head())"
      ],
      "metadata": {
        "id": "q661kaLfZUKf"
      },
      "execution_count": null,
      "outputs": []
    },
    {
      "cell_type": "code",
      "source": [
        "# Print column names\n",
        "for col in final_2001_to_2021.columns:\n",
        "    print(col)"
      ],
      "metadata": {
        "id": "cRB0IWDWbxZg"
      },
      "execution_count": null,
      "outputs": []
    },
    {
      "cell_type": "code",
      "source": [
        "final = final_2001_to_2021.copy()\n",
        "\n",
        "# Drop useless 1996 columns\n",
        "final = final.drop(columns=[\"Population_1996_x\", \"Population_1996_y\", \"Population_1996\"], errors=\"ignore\")\n",
        "\n",
        "print(\"Finalized table:\", final.shape)\n",
        "print(final.head(3))"
      ],
      "metadata": {
        "id": "hPqmcG90zPFz"
      },
      "execution_count": null,
      "outputs": []
    },
    {
      "cell_type": "code",
      "source": [
        "# Export file\n",
        "final.to_csv('/content/drive/MyDrive/GentrificAItion/montreal_data_processing/data_cleaning/4_standardized_data/2001_standardized.csv', index=False)"
      ],
      "metadata": {
        "id": "E4XydMYwBTHC"
      },
      "execution_count": null,
      "outputs": []
    },
    {
      "cell_type": "markdown",
      "source": [
        "# 2006 Standardization"
      ],
      "metadata": {
        "id": "BB3Qsd0O5z0d"
      }
    },
    {
      "cell_type": "markdown",
      "source": [
        "**2006→2021 Crosswalk Summary:** <br>\n",
        "\n",
        "  unique source_ctuid: 5076 <br>\n",
        "  unique target_ctuid: 6170 <br>\n",
        "Final 2006 Standardized Table Shape: 6170 rows x 67 columns"
      ],
      "metadata": {
        "id": "ZH_79rWtoIid"
      }
    },
    {
      "cell_type": "code",
      "source": [
        "# Read in the data\n",
        "census_2006 = pd.read_csv('/content/drive/MyDrive/GentrificAItion/montreal_data_processing/data_cleaning/2_clean_data/2006_clean.csv')\n",
        "\n",
        "# Read in crosswalk table\n",
        "cw_2006_2021 = pd.read_csv('/content/drive/MyDrive/GentrificAItion/montreal_data_processing/data_cleaning/3_census_crosswalks/ct_2006_2021.csv')"
      ],
      "metadata": {
        "id": "9tBkXlxRcrBE"
      },
      "execution_count": null,
      "outputs": []
    },
    {
      "cell_type": "code",
      "source": [
        "# Define CTUID column name\n",
        "ctuidcol = \"GeoUID_2006\"\n",
        "\n",
        "# Categorize variables on calculation type (66 variables total excluding GeoUID and Area (sq km))\n",
        "fields_pop = [\n",
        "    \"Population_2006\",\n",
        "    \"Population 0 to 9_2006\", \"Population 10 to 19_2006\", \"Population 20 to 29_2006\",\n",
        "    \"Population 30 to 39_2006\", \"Population 40 to 49_2006\", \"Population 50 to 59_2006\",\n",
        "    \"Population 60 plus_2006\", \"Total male population_2006\", \"Total female population_2006\",\n",
        "    \"Non-movers_2006\", \"Movers_2006\", \"Non-migrants_2006\",\n",
        "    \"Migrants_2006\", \"Internal migrants_2006\", \"External migrants_2006\", \"Non-visible minority_2006\",\n",
        "    \"Visible minority_2006\", \"Non-Canadian citizens_2006\", \"Canadian citizens_2006\",\n",
        "    \"Non-immigrants_2006\", \"Immigrants_2006\", \"Non-permanent residents_2006\", \"Never married_2006\",\n",
        "    \"Divorced_2006\", \"Widowed_2006\", \"Common-law couples_2006\", \"Married couples_2006\",\n",
        "    \"Employed_2006\", \"Unemployed_2006\",\n",
        "    \"No certificate or diploma_2006\", \"High school or Secondary degree_2006\",\n",
        "    \"College or CEGEP degree_2006\", \"Trades certificate, diploma or apprenticeship_2006\",\n",
        "    \"Bachelors degree or higher_2006\",\n",
        "    \"Public transit_2006\", \"Walked_2006\", \"Bicycle_2006\", \"Transportation other methods_2006\",\n",
        "    \"Transportation vehicle driver_2006\", \"Transportation vehicle non-driver_2006\",\n",
        "    \"English only_2006\", \"French only_2006\", \"English and French_2006\",\n",
        "    \"English and non-official language(s)_2006\", \"French and non-official language(s)_2006\",\n",
        "    \"English, French, and non-official language(s)_2006\", \"Allophone_2006\"\n",
        "    ]\n",
        "\n",
        "fields_dwe = [\n",
        "    \"Households_2006\",\"Dwellings_2006\", \"Apartment with fewer than five stories_2006\",\n",
        "    \"Apartment with five or more storeys_2006\", \"Row house_2006\", \"Single-detached house_2006\",\n",
        "    \"Semi-detached house_2006\", \"Movable dwelling_2006\", \"Other single-attached house_2006\",\n",
        "    \"Major repairs_2006\",\"Regular maintenance_2006\",\n",
        "    \"Owned housing_2006\", \"Rented housing_2006\", \"Band housing_2006\"\n",
        "    ]\n",
        "\n",
        "fields_weighted_avg = [\n",
        "    \"Median household income ($)_2006\",\n",
        "    \"Average gross rent ($)_2006\",\n",
        "    \"Average value dwelling ($)_2006\"\n",
        "    ]\n",
        "\n",
        "fields_manual = [\n",
        "    \"Population change (%)_2006\"\n",
        "    ]"
      ],
      "metadata": {
        "id": "Xwnn2Yy3RBMQ"
      },
      "execution_count": null,
      "outputs": []
    },
    {
      "cell_type": "code",
      "source": [
        "# Combine all fields to convert to numeric\n",
        "all_fields = fields_pop + fields_dwe + fields_weighted_avg + fields_manual\n",
        "\n",
        "# Convert all columns except GeoUID to numeric\n",
        "for col in all_fields:\n",
        "  if col != ctuidcol:\n",
        "    census_2006[col] = pd.to_numeric(census_2006[col], errors=\"coerce\")"
      ],
      "metadata": {
        "id": "n9lGuxpSRpDv"
      },
      "execution_count": null,
      "outputs": []
    },
    {
      "cell_type": "code",
      "source": [
        "# Remove placeholder CTUIDs (-1.0) before merging\n",
        "cw_2006_2021 = cw_2006_2021[\n",
        "    (cw_2006_2021['source_ctuid'] != -1.0) &\n",
        "    (cw_2006_2021['target_ctuid'] != -1.0)\n",
        "]"
      ],
      "metadata": {
        "id": "oxPjx7wr0DOD"
      },
      "execution_count": null,
      "outputs": []
    },
    {
      "cell_type": "code",
      "source": [
        "# Joining the two input tables (following model code structure exactly)\n",
        "merged = cw_2006_2021.merge(\n",
        "    census_2006,\n",
        "    how=\"outer\",\n",
        "    left_on=\"source_ctuid\",\n",
        "    right_on=ctuidcol,\n",
        "    indicator=True\n",
        ")\n",
        "\n",
        "print(merged['_merge'].value_counts())"
      ],
      "metadata": {
        "id": "k2dqQlcw0SPb"
      },
      "execution_count": null,
      "outputs": []
    },
    {
      "cell_type": "markdown",
      "source": [
        "**w_pop and w_dwe**"
      ],
      "metadata": {
        "id": "JkQpC9o81jNv"
      }
    },
    {
      "cell_type": "code",
      "source": [
        "# Apply weights\n",
        "output_fields = []\n",
        "\n",
        "for f in fields_pop:\n",
        "    weighted_col = f\"w_{f}\"\n",
        "    merged[weighted_col] = merged[\"w_pop\"] * merged[f]\n",
        "    output_fields.append(weighted_col)\n",
        "\n",
        "for f in fields_dwe:\n",
        "    weighted_col = f\"w_{f}\"\n",
        "    merged[weighted_col] = merged[\"w_dwe\"] * merged[f]\n",
        "    output_fields.append(weighted_col)\n",
        "\n",
        "# Print numbers of rows and columns\n",
        "print(merged.shape)\n",
        "\n",
        "# Print column names\n",
        "for col in merged.columns:\n",
        "    print(col)"
      ],
      "metadata": {
        "id": "ZsSL0h_nep6K"
      },
      "execution_count": null,
      "outputs": []
    },
    {
      "cell_type": "code",
      "source": [
        "# Group and aggregate weighted variables\n",
        "weighted_data = merged.groupby(\"target_ctuid\")[output_fields].agg(\"sum\", min_count=1)\n",
        "\n",
        "# Drop w_ prefix\n",
        "weighted_data.columns = [c[2:] if c.startswith(\"w_\") else c for c in weighted_data.columns]\n",
        "\n",
        "# Print numbers of rows and columns\n",
        "print(weighted_data.shape)\n",
        "\n",
        "# Print column names\n",
        "for col in weighted_data.columns:\n",
        "    print(col)"
      ],
      "metadata": {
        "id": "oo9pIQpDhjSf"
      },
      "execution_count": null,
      "outputs": []
    },
    {
      "cell_type": "markdown",
      "source": [
        "**weighted average**"
      ],
      "metadata": {
        "id": "7pJdFNo1hnk6"
      }
    },
    {
      "cell_type": "code",
      "source": [
        "# Initialize an empty DataFrame for weighted averages\n",
        "weighted_avg_output = pd.DataFrame()\n",
        "\n",
        "# For median household income (w_pop)\n",
        "income_col = \"Median household income ($)_2006\"\n",
        "weighted_income = (\n",
        "    (merged[income_col] * merged[\"w_pop\"])\n",
        "    .groupby(merged[\"target_ctuid\"])\n",
        "    .agg(\"sum\", min_count=1)\n",
        "    / merged[\"w_pop\"].groupby(merged[\"target_ctuid\"]).agg(\"sum\", min_count=1)\n",
        ")\n",
        "weighted_avg_output[income_col] = weighted_income\n",
        "\n",
        "# For average gross rent (w_dwe)\n",
        "rent_col = \"Average gross rent ($)_2006\"\n",
        "weighted_rent = (\n",
        "    (merged[rent_col] * merged[\"w_dwe\"])\n",
        "    .groupby(merged[\"target_ctuid\"])\n",
        "    .agg(\"sum\", min_count=1)\n",
        "    / merged[\"w_dwe\"].groupby(merged[\"target_ctuid\"]).agg(\"sum\", min_count=1)\n",
        ")\n",
        "weighted_avg_output[rent_col] = weighted_rent\n",
        "\n",
        "# For average dwelling value (w_dwe)\n",
        "value_col = \"Average value dwelling ($)_2006\"\n",
        "weighted_value = (\n",
        "    (merged[value_col] * merged[\"w_dwe\"])\n",
        "    .groupby(merged[\"target_ctuid\"])\n",
        "    .agg(\"sum\", min_count=1)\n",
        "    / merged[\"w_dwe\"].groupby(merged[\"target_ctuid\"]).agg(\"sum\", min_count=1)\n",
        ")\n",
        "weighted_avg_output[value_col] = weighted_value\n",
        "\n",
        "# Print column names\n",
        "for col in weighted_avg_output.columns:\n",
        "    print(col)"
      ],
      "metadata": {
        "id": "WmwTbJiQhsJH"
      },
      "execution_count": null,
      "outputs": []
    },
    {
      "cell_type": "code",
      "source": [
        "# Combine weighted sums and weighed averages\n",
        "final_2006_to_2021 = (\n",
        "    weighted_data\n",
        "    .join(weighted_avg_output, how=\"outer\")\n",
        "    .reset_index()\n",
        "    .rename(columns={\"target_ctuid\": \"GeoUID_2021\"})\n",
        ")\n",
        "\n",
        "print(final_2006_to_2021.shape)\n",
        "print(final_2006_to_2021.head())"
      ],
      "metadata": {
        "id": "p4xBfjYeiVNA"
      },
      "execution_count": null,
      "outputs": []
    },
    {
      "cell_type": "markdown",
      "source": [
        "**population change calculation**"
      ],
      "metadata": {
        "id": "6qWJ4nMfilZ3"
      }
    },
    {
      "cell_type": "code",
      "source": [
        "# Read in the standardized 2001 data\n",
        "df2001 = pd.read_csv('/content/drive/MyDrive/GentrificAItion/montreal_data_processing/data_cleaning/4_standardized_data/2001_standardized.csv')\n",
        "\n",
        "# Merge 2001 population into the 2006-standardized table\n",
        "final_2006_to_2021 = final_2006_to_2021.merge(\n",
        "    df2001[['GeoUID_2021', 'Population_2001']],\n",
        "    on=\"GeoUID_2021\",\n",
        "    how=\"left\"\n",
        ")\n",
        "\n",
        "# Calculate % change (2001 → 2006)\n",
        "den = pd.to_numeric(final_2006_to_2021[\"Population_2001\"], errors=\"coerce\").replace(0, np.nan)\n",
        "num = pd.to_numeric(final_2006_to_2021[\"Population_2006\"], errors=\"coerce\")\n",
        "final_2006_to_2021[\"Population change (%)_2006\"] = ((num - den) / den * 100).round(1)\n",
        "\n",
        "# Quick check\n",
        "print(final_2006_to_2021[[\"GeoUID_2021\", \"Population_2001\", \"Population_2006\", \"Population change (%)_2006\"]].head())"
      ],
      "metadata": {
        "id": "OwOG7XvrjDvC"
      },
      "execution_count": null,
      "outputs": []
    },
    {
      "cell_type": "code",
      "source": [
        "final = final_2006_to_2021.copy()\n",
        "\n",
        "# Drop useless 2001 columns\n",
        "final = final.drop(columns=[\"Population_2001\"], errors=\"ignore\")\n",
        "\n",
        "print(\"Finalized table:\", final.shape)\n",
        "\n",
        "for col in final.columns:\n",
        "    print(col)"
      ],
      "metadata": {
        "id": "jgGHSeaYlwQL"
      },
      "execution_count": null,
      "outputs": []
    },
    {
      "cell_type": "code",
      "source": [
        "# Export file\n",
        "final.to_csv('/content/drive/MyDrive/GentrificAItion/montreal_data_processing/data_cleaning/4_standardized_data/2006_standardized.csv', index=False)"
      ],
      "metadata": {
        "id": "TRw0bwBwm8iD"
      },
      "execution_count": null,
      "outputs": []
    },
    {
      "cell_type": "markdown",
      "source": [
        "# 2011 Standardization"
      ],
      "metadata": {
        "id": "DYwylJXc56An"
      }
    },
    {
      "cell_type": "code",
      "source": [
        "# Read in the data\n",
        "census_2011 = pd.read_csv('/content/drive/MyDrive/GentrificAItion/montreal_data_processing/data_cleaning/2_clean_data/2011_clean.csv')\n",
        "\n",
        "# Read in crosswalk table\n",
        "cw_2011_2021 = pd.read_csv('/content/drive/MyDrive/GentrificAItion/montreal_data_processing/data_cleaning/3_census_crosswalks/ct_2011_2021.csv')"
      ],
      "metadata": {
        "id": "xPVwakmCpXn9"
      },
      "execution_count": null,
      "outputs": []
    },
    {
      "cell_type": "code",
      "source": [],
      "metadata": {
        "id": "UnYuZs7QgWYa"
      },
      "execution_count": null,
      "outputs": []
    },
    {
      "cell_type": "markdown",
      "source": [
        "# 2016 Standarization"
      ],
      "metadata": {
        "id": "WqnTudTs5-SQ"
      }
    },
    {
      "cell_type": "code",
      "source": [
        "# Read in the data\n",
        "census_2016 = pd.read_csv('/content/drive/MyDrive/GentrificAItion/montreal_data_processing/data_cleaning/2_clean_data/2016_clean.csv')\n",
        "\n",
        "# Read in crosswalk table\n",
        "cw_2016_2021 = pd.read_csv('/content/drive/MyDrive/GentrificAItion/montreal_data_processing/data_cleaning/3_census_crosswalks/ct_2016_2021.csv')"
      ],
      "metadata": {
        "id": "il4K-s3bpX8o"
      },
      "execution_count": null,
      "outputs": []
    },
    {
      "cell_type": "code",
      "source": [],
      "metadata": {
        "id": "VwWcpoQmgW0Q"
      },
      "execution_count": null,
      "outputs": []
    }
  ]
}